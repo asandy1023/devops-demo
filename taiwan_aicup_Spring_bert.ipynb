{
  "nbformat": 4,
  "nbformat_minor": 0,
  "metadata": {
    "colab": {
      "provenance": [],
      "collapsed_sections": [],
      "include_colab_link": true
    },
    "kernelspec": {
      "name": "python3",
      "display_name": "Python 3"
    },
    "language_info": {
      "name": "python"
    },
    "widgets": {
      "application/vnd.jupyter.widget-state+json": {
        "171cdb68521f44b1b755bec3d40461ed": {
          "model_module": "@jupyter-widgets/controls",
          "model_name": "HBoxModel",
          "state": {
            "_view_name": "HBoxView",
            "_dom_classes": [],
            "_model_name": "HBoxModel",
            "_view_module": "@jupyter-widgets/controls",
            "_model_module_version": "1.5.0",
            "_view_count": null,
            "_view_module_version": "1.5.0",
            "box_style": "",
            "layout": "IPY_MODEL_214dd009fab046a9a2fad5eb4f1ee0a2",
            "_model_module": "@jupyter-widgets/controls",
            "children": [
              "IPY_MODEL_4579e28e076a4ded8ea87ec7802679a5",
              "IPY_MODEL_d468f7bb286041cf88f81e1179324c7c"
            ]
          },
          "model_module_version": "1.5.0"
        },
        "214dd009fab046a9a2fad5eb4f1ee0a2": {
          "model_module": "@jupyter-widgets/base",
          "model_name": "LayoutModel",
          "state": {
            "_view_name": "LayoutView",
            "grid_template_rows": null,
            "right": null,
            "justify_content": null,
            "_view_module": "@jupyter-widgets/base",
            "overflow": null,
            "_model_module_version": "1.2.0",
            "_view_count": null,
            "flex_flow": null,
            "width": null,
            "min_width": null,
            "border": null,
            "align_items": null,
            "bottom": null,
            "_model_module": "@jupyter-widgets/base",
            "top": null,
            "grid_column": null,
            "overflow_y": null,
            "overflow_x": null,
            "grid_auto_flow": null,
            "grid_area": null,
            "grid_template_columns": null,
            "flex": null,
            "_model_name": "LayoutModel",
            "justify_items": null,
            "grid_row": null,
            "max_height": null,
            "align_content": null,
            "visibility": null,
            "align_self": null,
            "height": null,
            "min_height": null,
            "padding": null,
            "grid_auto_rows": null,
            "grid_gap": null,
            "max_width": null,
            "order": null,
            "_view_module_version": "1.2.0",
            "grid_template_areas": null,
            "object_position": null,
            "object_fit": null,
            "grid_auto_columns": null,
            "margin": null,
            "display": null,
            "left": null
          },
          "model_module_version": "1.2.0"
        },
        "4579e28e076a4ded8ea87ec7802679a5": {
          "model_module": "@jupyter-widgets/controls",
          "model_name": "FloatProgressModel",
          "state": {
            "_view_name": "ProgressView",
            "style": "IPY_MODEL_6877ab2eee5942c8900035b0d155c248",
            "_dom_classes": [],
            "description": "Downloading: 100%",
            "_model_name": "FloatProgressModel",
            "bar_style": "success",
            "max": 624,
            "_view_module": "@jupyter-widgets/controls",
            "_model_module_version": "1.5.0",
            "value": 624,
            "_view_count": null,
            "_view_module_version": "1.5.0",
            "orientation": "horizontal",
            "min": 0,
            "description_tooltip": null,
            "_model_module": "@jupyter-widgets/controls",
            "layout": "IPY_MODEL_d5a1715b5ddb4b1094ca00824c1f8130"
          },
          "model_module_version": "1.5.0"
        },
        "d468f7bb286041cf88f81e1179324c7c": {
          "model_module": "@jupyter-widgets/controls",
          "model_name": "HTMLModel",
          "state": {
            "_view_name": "HTMLView",
            "style": "IPY_MODEL_9e5bfb4735084447876dd6fc531d9bb1",
            "_dom_classes": [],
            "description": "",
            "_model_name": "HTMLModel",
            "placeholder": "​",
            "_view_module": "@jupyter-widgets/controls",
            "_model_module_version": "1.5.0",
            "value": " 624/624 [00:14&lt;00:00, 43.4B/s]",
            "_view_count": null,
            "_view_module_version": "1.5.0",
            "description_tooltip": null,
            "_model_module": "@jupyter-widgets/controls",
            "layout": "IPY_MODEL_c30ef694ba674899a88fe460239a6058"
          },
          "model_module_version": "1.5.0"
        },
        "6877ab2eee5942c8900035b0d155c248": {
          "model_module": "@jupyter-widgets/controls",
          "model_name": "ProgressStyleModel",
          "state": {
            "_view_name": "StyleView",
            "_model_name": "ProgressStyleModel",
            "description_width": "initial",
            "_view_module": "@jupyter-widgets/base",
            "_model_module_version": "1.5.0",
            "_view_count": null,
            "_view_module_version": "1.2.0",
            "bar_color": null,
            "_model_module": "@jupyter-widgets/controls"
          },
          "model_module_version": "1.5.0"
        },
        "d5a1715b5ddb4b1094ca00824c1f8130": {
          "model_module": "@jupyter-widgets/base",
          "model_name": "LayoutModel",
          "state": {
            "_view_name": "LayoutView",
            "grid_template_rows": null,
            "right": null,
            "justify_content": null,
            "_view_module": "@jupyter-widgets/base",
            "overflow": null,
            "_model_module_version": "1.2.0",
            "_view_count": null,
            "flex_flow": null,
            "width": null,
            "min_width": null,
            "border": null,
            "align_items": null,
            "bottom": null,
            "_model_module": "@jupyter-widgets/base",
            "top": null,
            "grid_column": null,
            "overflow_y": null,
            "overflow_x": null,
            "grid_auto_flow": null,
            "grid_area": null,
            "grid_template_columns": null,
            "flex": null,
            "_model_name": "LayoutModel",
            "justify_items": null,
            "grid_row": null,
            "max_height": null,
            "align_content": null,
            "visibility": null,
            "align_self": null,
            "height": null,
            "min_height": null,
            "padding": null,
            "grid_auto_rows": null,
            "grid_gap": null,
            "max_width": null,
            "order": null,
            "_view_module_version": "1.2.0",
            "grid_template_areas": null,
            "object_position": null,
            "object_fit": null,
            "grid_auto_columns": null,
            "margin": null,
            "display": null,
            "left": null
          },
          "model_module_version": "1.2.0"
        },
        "9e5bfb4735084447876dd6fc531d9bb1": {
          "model_module": "@jupyter-widgets/controls",
          "model_name": "DescriptionStyleModel",
          "state": {
            "_view_name": "StyleView",
            "_model_name": "DescriptionStyleModel",
            "description_width": "",
            "_view_module": "@jupyter-widgets/base",
            "_model_module_version": "1.5.0",
            "_view_count": null,
            "_view_module_version": "1.2.0",
            "_model_module": "@jupyter-widgets/controls"
          },
          "model_module_version": "1.5.0"
        },
        "c30ef694ba674899a88fe460239a6058": {
          "model_module": "@jupyter-widgets/base",
          "model_name": "LayoutModel",
          "state": {
            "_view_name": "LayoutView",
            "grid_template_rows": null,
            "right": null,
            "justify_content": null,
            "_view_module": "@jupyter-widgets/base",
            "overflow": null,
            "_model_module_version": "1.2.0",
            "_view_count": null,
            "flex_flow": null,
            "width": null,
            "min_width": null,
            "border": null,
            "align_items": null,
            "bottom": null,
            "_model_module": "@jupyter-widgets/base",
            "top": null,
            "grid_column": null,
            "overflow_y": null,
            "overflow_x": null,
            "grid_auto_flow": null,
            "grid_area": null,
            "grid_template_columns": null,
            "flex": null,
            "_model_name": "LayoutModel",
            "justify_items": null,
            "grid_row": null,
            "max_height": null,
            "align_content": null,
            "visibility": null,
            "align_self": null,
            "height": null,
            "min_height": null,
            "padding": null,
            "grid_auto_rows": null,
            "grid_gap": null,
            "max_width": null,
            "order": null,
            "_view_module_version": "1.2.0",
            "grid_template_areas": null,
            "object_position": null,
            "object_fit": null,
            "grid_auto_columns": null,
            "margin": null,
            "display": null,
            "left": null
          },
          "model_module_version": "1.2.0"
        },
        "37be00aee30c46d8bbde96fbf4fe4568": {
          "model_module": "@jupyter-widgets/controls",
          "model_name": "HBoxModel",
          "state": {
            "_view_name": "HBoxView",
            "_dom_classes": [],
            "_model_name": "HBoxModel",
            "_view_module": "@jupyter-widgets/controls",
            "_model_module_version": "1.5.0",
            "_view_count": null,
            "_view_module_version": "1.5.0",
            "box_style": "",
            "layout": "IPY_MODEL_94a35972163b4f8ead26ab69e9441ade",
            "_model_module": "@jupyter-widgets/controls",
            "children": [
              "IPY_MODEL_1ca16c2417f547449283bffa5d127f65",
              "IPY_MODEL_d7a9625e26324afdb42eb2936aa0472f"
            ]
          },
          "model_module_version": "1.5.0"
        },
        "94a35972163b4f8ead26ab69e9441ade": {
          "model_module": "@jupyter-widgets/base",
          "model_name": "LayoutModel",
          "state": {
            "_view_name": "LayoutView",
            "grid_template_rows": null,
            "right": null,
            "justify_content": null,
            "_view_module": "@jupyter-widgets/base",
            "overflow": null,
            "_model_module_version": "1.2.0",
            "_view_count": null,
            "flex_flow": null,
            "width": null,
            "min_width": null,
            "border": null,
            "align_items": null,
            "bottom": null,
            "_model_module": "@jupyter-widgets/base",
            "top": null,
            "grid_column": null,
            "overflow_y": null,
            "overflow_x": null,
            "grid_auto_flow": null,
            "grid_area": null,
            "grid_template_columns": null,
            "flex": null,
            "_model_name": "LayoutModel",
            "justify_items": null,
            "grid_row": null,
            "max_height": null,
            "align_content": null,
            "visibility": null,
            "align_self": null,
            "height": null,
            "min_height": null,
            "padding": null,
            "grid_auto_rows": null,
            "grid_gap": null,
            "max_width": null,
            "order": null,
            "_view_module_version": "1.2.0",
            "grid_template_areas": null,
            "object_position": null,
            "object_fit": null,
            "grid_auto_columns": null,
            "margin": null,
            "display": null,
            "left": null
          },
          "model_module_version": "1.2.0"
        },
        "1ca16c2417f547449283bffa5d127f65": {
          "model_module": "@jupyter-widgets/controls",
          "model_name": "FloatProgressModel",
          "state": {
            "_view_name": "ProgressView",
            "style": "IPY_MODEL_d68399f1bc564bb69e6ca3ec96190603",
            "_dom_classes": [],
            "description": "Downloading: 100%",
            "_model_name": "FloatProgressModel",
            "bar_style": "success",
            "max": 109540,
            "_view_module": "@jupyter-widgets/controls",
            "_model_module_version": "1.5.0",
            "value": 109540,
            "_view_count": null,
            "_view_module_version": "1.5.0",
            "orientation": "horizontal",
            "min": 0,
            "description_tooltip": null,
            "_model_module": "@jupyter-widgets/controls",
            "layout": "IPY_MODEL_39f475e3122b474ca9aca589df573be9"
          },
          "model_module_version": "1.5.0"
        },
        "d7a9625e26324afdb42eb2936aa0472f": {
          "model_module": "@jupyter-widgets/controls",
          "model_name": "HTMLModel",
          "state": {
            "_view_name": "HTMLView",
            "style": "IPY_MODEL_df1954098d13468d8030cd55e7bd0700",
            "_dom_classes": [],
            "description": "",
            "_model_name": "HTMLModel",
            "placeholder": "​",
            "_view_module": "@jupyter-widgets/controls",
            "_model_module_version": "1.5.0",
            "value": " 110k/110k [00:00&lt;00:00, 214kB/s]",
            "_view_count": null,
            "_view_module_version": "1.5.0",
            "description_tooltip": null,
            "_model_module": "@jupyter-widgets/controls",
            "layout": "IPY_MODEL_f273b9a189ca4cd78786552856883c57"
          },
          "model_module_version": "1.5.0"
        },
        "d68399f1bc564bb69e6ca3ec96190603": {
          "model_module": "@jupyter-widgets/controls",
          "model_name": "ProgressStyleModel",
          "state": {
            "_view_name": "StyleView",
            "_model_name": "ProgressStyleModel",
            "description_width": "initial",
            "_view_module": "@jupyter-widgets/base",
            "_model_module_version": "1.5.0",
            "_view_count": null,
            "_view_module_version": "1.2.0",
            "bar_color": null,
            "_model_module": "@jupyter-widgets/controls"
          },
          "model_module_version": "1.5.0"
        },
        "39f475e3122b474ca9aca589df573be9": {
          "model_module": "@jupyter-widgets/base",
          "model_name": "LayoutModel",
          "state": {
            "_view_name": "LayoutView",
            "grid_template_rows": null,
            "right": null,
            "justify_content": null,
            "_view_module": "@jupyter-widgets/base",
            "overflow": null,
            "_model_module_version": "1.2.0",
            "_view_count": null,
            "flex_flow": null,
            "width": null,
            "min_width": null,
            "border": null,
            "align_items": null,
            "bottom": null,
            "_model_module": "@jupyter-widgets/base",
            "top": null,
            "grid_column": null,
            "overflow_y": null,
            "overflow_x": null,
            "grid_auto_flow": null,
            "grid_area": null,
            "grid_template_columns": null,
            "flex": null,
            "_model_name": "LayoutModel",
            "justify_items": null,
            "grid_row": null,
            "max_height": null,
            "align_content": null,
            "visibility": null,
            "align_self": null,
            "height": null,
            "min_height": null,
            "padding": null,
            "grid_auto_rows": null,
            "grid_gap": null,
            "max_width": null,
            "order": null,
            "_view_module_version": "1.2.0",
            "grid_template_areas": null,
            "object_position": null,
            "object_fit": null,
            "grid_auto_columns": null,
            "margin": null,
            "display": null,
            "left": null
          },
          "model_module_version": "1.2.0"
        },
        "df1954098d13468d8030cd55e7bd0700": {
          "model_module": "@jupyter-widgets/controls",
          "model_name": "DescriptionStyleModel",
          "state": {
            "_view_name": "StyleView",
            "_model_name": "DescriptionStyleModel",
            "description_width": "",
            "_view_module": "@jupyter-widgets/base",
            "_model_module_version": "1.5.0",
            "_view_count": null,
            "_view_module_version": "1.2.0",
            "_model_module": "@jupyter-widgets/controls"
          },
          "model_module_version": "1.5.0"
        },
        "f273b9a189ca4cd78786552856883c57": {
          "model_module": "@jupyter-widgets/base",
          "model_name": "LayoutModel",
          "state": {
            "_view_name": "LayoutView",
            "grid_template_rows": null,
            "right": null,
            "justify_content": null,
            "_view_module": "@jupyter-widgets/base",
            "overflow": null,
            "_model_module_version": "1.2.0",
            "_view_count": null,
            "flex_flow": null,
            "width": null,
            "min_width": null,
            "border": null,
            "align_items": null,
            "bottom": null,
            "_model_module": "@jupyter-widgets/base",
            "top": null,
            "grid_column": null,
            "overflow_y": null,
            "overflow_x": null,
            "grid_auto_flow": null,
            "grid_area": null,
            "grid_template_columns": null,
            "flex": null,
            "_model_name": "LayoutModel",
            "justify_items": null,
            "grid_row": null,
            "max_height": null,
            "align_content": null,
            "visibility": null,
            "align_self": null,
            "height": null,
            "min_height": null,
            "padding": null,
            "grid_auto_rows": null,
            "grid_gap": null,
            "max_width": null,
            "order": null,
            "_view_module_version": "1.2.0",
            "grid_template_areas": null,
            "object_position": null,
            "object_fit": null,
            "grid_auto_columns": null,
            "margin": null,
            "display": null,
            "left": null
          },
          "model_module_version": "1.2.0"
        },
        "286a22b843dc40909d2e18cb01ac4c34": {
          "model_module": "@jupyter-widgets/controls",
          "model_name": "HBoxModel",
          "state": {
            "_view_name": "HBoxView",
            "_dom_classes": [],
            "_model_name": "HBoxModel",
            "_view_module": "@jupyter-widgets/controls",
            "_model_module_version": "1.5.0",
            "_view_count": null,
            "_view_module_version": "1.5.0",
            "box_style": "",
            "layout": "IPY_MODEL_baac4dcdaa5249f494017e8675822c97",
            "_model_module": "@jupyter-widgets/controls",
            "children": [
              "IPY_MODEL_f043628e6e3c41828ee864067a0b72c0",
              "IPY_MODEL_24c0eac1b6154647b63b6b68747ace94"
            ]
          },
          "model_module_version": "1.5.0"
        },
        "baac4dcdaa5249f494017e8675822c97": {
          "model_module": "@jupyter-widgets/base",
          "model_name": "LayoutModel",
          "state": {
            "_view_name": "LayoutView",
            "grid_template_rows": null,
            "right": null,
            "justify_content": null,
            "_view_module": "@jupyter-widgets/base",
            "overflow": null,
            "_model_module_version": "1.2.0",
            "_view_count": null,
            "flex_flow": null,
            "width": null,
            "min_width": null,
            "border": null,
            "align_items": null,
            "bottom": null,
            "_model_module": "@jupyter-widgets/base",
            "top": null,
            "grid_column": null,
            "overflow_y": null,
            "overflow_x": null,
            "grid_auto_flow": null,
            "grid_area": null,
            "grid_template_columns": null,
            "flex": null,
            "_model_name": "LayoutModel",
            "justify_items": null,
            "grid_row": null,
            "max_height": null,
            "align_content": null,
            "visibility": null,
            "align_self": null,
            "height": null,
            "min_height": null,
            "padding": null,
            "grid_auto_rows": null,
            "grid_gap": null,
            "max_width": null,
            "order": null,
            "_view_module_version": "1.2.0",
            "grid_template_areas": null,
            "object_position": null,
            "object_fit": null,
            "grid_auto_columns": null,
            "margin": null,
            "display": null,
            "left": null
          },
          "model_module_version": "1.2.0"
        },
        "f043628e6e3c41828ee864067a0b72c0": {
          "model_module": "@jupyter-widgets/controls",
          "model_name": "FloatProgressModel",
          "state": {
            "_view_name": "ProgressView",
            "style": "IPY_MODEL_3e9fcef3c25549e490d2f58863d32be8",
            "_dom_classes": [],
            "description": "Downloading: 100%",
            "_model_name": "FloatProgressModel",
            "bar_style": "success",
            "max": 268943,
            "_view_module": "@jupyter-widgets/controls",
            "_model_module_version": "1.5.0",
            "value": 268943,
            "_view_count": null,
            "_view_module_version": "1.5.0",
            "orientation": "horizontal",
            "min": 0,
            "description_tooltip": null,
            "_model_module": "@jupyter-widgets/controls",
            "layout": "IPY_MODEL_1978df6aebc94b53bf152327b0e67098"
          },
          "model_module_version": "1.5.0"
        },
        "24c0eac1b6154647b63b6b68747ace94": {
          "model_module": "@jupyter-widgets/controls",
          "model_name": "HTMLModel",
          "state": {
            "_view_name": "HTMLView",
            "style": "IPY_MODEL_60a239486c8f4ede8117c672c4649ec0",
            "_dom_classes": [],
            "description": "",
            "_model_name": "HTMLModel",
            "placeholder": "​",
            "_view_module": "@jupyter-widgets/controls",
            "_model_module_version": "1.5.0",
            "value": " 269k/269k [00:00&lt;00:00, 1.19MB/s]",
            "_view_count": null,
            "_view_module_version": "1.5.0",
            "description_tooltip": null,
            "_model_module": "@jupyter-widgets/controls",
            "layout": "IPY_MODEL_fe5935a4ce5a4e6481a17bacdde40ad7"
          },
          "model_module_version": "1.5.0"
        },
        "3e9fcef3c25549e490d2f58863d32be8": {
          "model_module": "@jupyter-widgets/controls",
          "model_name": "ProgressStyleModel",
          "state": {
            "_view_name": "StyleView",
            "_model_name": "ProgressStyleModel",
            "description_width": "initial",
            "_view_module": "@jupyter-widgets/base",
            "_model_module_version": "1.5.0",
            "_view_count": null,
            "_view_module_version": "1.2.0",
            "bar_color": null,
            "_model_module": "@jupyter-widgets/controls"
          },
          "model_module_version": "1.5.0"
        },
        "1978df6aebc94b53bf152327b0e67098": {
          "model_module": "@jupyter-widgets/base",
          "model_name": "LayoutModel",
          "state": {
            "_view_name": "LayoutView",
            "grid_template_rows": null,
            "right": null,
            "justify_content": null,
            "_view_module": "@jupyter-widgets/base",
            "overflow": null,
            "_model_module_version": "1.2.0",
            "_view_count": null,
            "flex_flow": null,
            "width": null,
            "min_width": null,
            "border": null,
            "align_items": null,
            "bottom": null,
            "_model_module": "@jupyter-widgets/base",
            "top": null,
            "grid_column": null,
            "overflow_y": null,
            "overflow_x": null,
            "grid_auto_flow": null,
            "grid_area": null,
            "grid_template_columns": null,
            "flex": null,
            "_model_name": "LayoutModel",
            "justify_items": null,
            "grid_row": null,
            "max_height": null,
            "align_content": null,
            "visibility": null,
            "align_self": null,
            "height": null,
            "min_height": null,
            "padding": null,
            "grid_auto_rows": null,
            "grid_gap": null,
            "max_width": null,
            "order": null,
            "_view_module_version": "1.2.0",
            "grid_template_areas": null,
            "object_position": null,
            "object_fit": null,
            "grid_auto_columns": null,
            "margin": null,
            "display": null,
            "left": null
          },
          "model_module_version": "1.2.0"
        },
        "60a239486c8f4ede8117c672c4649ec0": {
          "model_module": "@jupyter-widgets/controls",
          "model_name": "DescriptionStyleModel",
          "state": {
            "_view_name": "StyleView",
            "_model_name": "DescriptionStyleModel",
            "description_width": "",
            "_view_module": "@jupyter-widgets/base",
            "_model_module_version": "1.5.0",
            "_view_count": null,
            "_view_module_version": "1.2.0",
            "_model_module": "@jupyter-widgets/controls"
          },
          "model_module_version": "1.5.0"
        },
        "fe5935a4ce5a4e6481a17bacdde40ad7": {
          "model_module": "@jupyter-widgets/base",
          "model_name": "LayoutModel",
          "state": {
            "_view_name": "LayoutView",
            "grid_template_rows": null,
            "right": null,
            "justify_content": null,
            "_view_module": "@jupyter-widgets/base",
            "overflow": null,
            "_model_module_version": "1.2.0",
            "_view_count": null,
            "flex_flow": null,
            "width": null,
            "min_width": null,
            "border": null,
            "align_items": null,
            "bottom": null,
            "_model_module": "@jupyter-widgets/base",
            "top": null,
            "grid_column": null,
            "overflow_y": null,
            "overflow_x": null,
            "grid_auto_flow": null,
            "grid_area": null,
            "grid_template_columns": null,
            "flex": null,
            "_model_name": "LayoutModel",
            "justify_items": null,
            "grid_row": null,
            "max_height": null,
            "align_content": null,
            "visibility": null,
            "align_self": null,
            "height": null,
            "min_height": null,
            "padding": null,
            "grid_auto_rows": null,
            "grid_gap": null,
            "max_width": null,
            "order": null,
            "_view_module_version": "1.2.0",
            "grid_template_areas": null,
            "object_position": null,
            "object_fit": null,
            "grid_auto_columns": null,
            "margin": null,
            "display": null,
            "left": null
          },
          "model_module_version": "1.2.0"
        },
        "b2a6d9720fe347168b5bbe67be84b282": {
          "model_module": "@jupyter-widgets/controls",
          "model_name": "HBoxModel",
          "state": {
            "_view_name": "HBoxView",
            "_dom_classes": [],
            "_model_name": "HBoxModel",
            "_view_module": "@jupyter-widgets/controls",
            "_model_module_version": "1.5.0",
            "_view_count": null,
            "_view_module_version": "1.5.0",
            "box_style": "",
            "layout": "IPY_MODEL_b7fe9e6325f74d09b2cc98d4de7a6385",
            "_model_module": "@jupyter-widgets/controls",
            "children": [
              "IPY_MODEL_faeed63834be4201ba197f1bd6a116b9",
              "IPY_MODEL_1f7b52e1f26e4024997d0fb0a33b0214"
            ]
          },
          "model_module_version": "1.5.0"
        },
        "b7fe9e6325f74d09b2cc98d4de7a6385": {
          "model_module": "@jupyter-widgets/base",
          "model_name": "LayoutModel",
          "state": {
            "_view_name": "LayoutView",
            "grid_template_rows": null,
            "right": null,
            "justify_content": null,
            "_view_module": "@jupyter-widgets/base",
            "overflow": null,
            "_model_module_version": "1.2.0",
            "_view_count": null,
            "flex_flow": null,
            "width": null,
            "min_width": null,
            "border": null,
            "align_items": null,
            "bottom": null,
            "_model_module": "@jupyter-widgets/base",
            "top": null,
            "grid_column": null,
            "overflow_y": null,
            "overflow_x": null,
            "grid_auto_flow": null,
            "grid_area": null,
            "grid_template_columns": null,
            "flex": null,
            "_model_name": "LayoutModel",
            "justify_items": null,
            "grid_row": null,
            "max_height": null,
            "align_content": null,
            "visibility": null,
            "align_self": null,
            "height": null,
            "min_height": null,
            "padding": null,
            "grid_auto_rows": null,
            "grid_gap": null,
            "max_width": null,
            "order": null,
            "_view_module_version": "1.2.0",
            "grid_template_areas": null,
            "object_position": null,
            "object_fit": null,
            "grid_auto_columns": null,
            "margin": null,
            "display": null,
            "left": null
          },
          "model_module_version": "1.2.0"
        },
        "faeed63834be4201ba197f1bd6a116b9": {
          "model_module": "@jupyter-widgets/controls",
          "model_name": "FloatProgressModel",
          "state": {
            "_view_name": "ProgressView",
            "style": "IPY_MODEL_5b0450cee5ac401784a49e8394d7d75e",
            "_dom_classes": [],
            "description": "Downloading: 100%",
            "_model_name": "FloatProgressModel",
            "bar_style": "success",
            "max": 29,
            "_view_module": "@jupyter-widgets/controls",
            "_model_module_version": "1.5.0",
            "value": 29,
            "_view_count": null,
            "_view_module_version": "1.5.0",
            "orientation": "horizontal",
            "min": 0,
            "description_tooltip": null,
            "_model_module": "@jupyter-widgets/controls",
            "layout": "IPY_MODEL_c84a1c713c3b409b95d89854cab31a35"
          },
          "model_module_version": "1.5.0"
        },
        "1f7b52e1f26e4024997d0fb0a33b0214": {
          "model_module": "@jupyter-widgets/controls",
          "model_name": "HTMLModel",
          "state": {
            "_view_name": "HTMLView",
            "style": "IPY_MODEL_685ab06a71914373811ece7ff4254dca",
            "_dom_classes": [],
            "description": "",
            "_model_name": "HTMLModel",
            "placeholder": "​",
            "_view_module": "@jupyter-widgets/controls",
            "_model_module_version": "1.5.0",
            "value": " 29.0/29.0 [00:01&lt;00:00, 18.0B/s]",
            "_view_count": null,
            "_view_module_version": "1.5.0",
            "description_tooltip": null,
            "_model_module": "@jupyter-widgets/controls",
            "layout": "IPY_MODEL_ff11835979554a17a052ab8f4fd9f65d"
          },
          "model_module_version": "1.5.0"
        },
        "5b0450cee5ac401784a49e8394d7d75e": {
          "model_module": "@jupyter-widgets/controls",
          "model_name": "ProgressStyleModel",
          "state": {
            "_view_name": "StyleView",
            "_model_name": "ProgressStyleModel",
            "description_width": "initial",
            "_view_module": "@jupyter-widgets/base",
            "_model_module_version": "1.5.0",
            "_view_count": null,
            "_view_module_version": "1.2.0",
            "bar_color": null,
            "_model_module": "@jupyter-widgets/controls"
          },
          "model_module_version": "1.5.0"
        },
        "c84a1c713c3b409b95d89854cab31a35": {
          "model_module": "@jupyter-widgets/base",
          "model_name": "LayoutModel",
          "state": {
            "_view_name": "LayoutView",
            "grid_template_rows": null,
            "right": null,
            "justify_content": null,
            "_view_module": "@jupyter-widgets/base",
            "overflow": null,
            "_model_module_version": "1.2.0",
            "_view_count": null,
            "flex_flow": null,
            "width": null,
            "min_width": null,
            "border": null,
            "align_items": null,
            "bottom": null,
            "_model_module": "@jupyter-widgets/base",
            "top": null,
            "grid_column": null,
            "overflow_y": null,
            "overflow_x": null,
            "grid_auto_flow": null,
            "grid_area": null,
            "grid_template_columns": null,
            "flex": null,
            "_model_name": "LayoutModel",
            "justify_items": null,
            "grid_row": null,
            "max_height": null,
            "align_content": null,
            "visibility": null,
            "align_self": null,
            "height": null,
            "min_height": null,
            "padding": null,
            "grid_auto_rows": null,
            "grid_gap": null,
            "max_width": null,
            "order": null,
            "_view_module_version": "1.2.0",
            "grid_template_areas": null,
            "object_position": null,
            "object_fit": null,
            "grid_auto_columns": null,
            "margin": null,
            "display": null,
            "left": null
          },
          "model_module_version": "1.2.0"
        },
        "685ab06a71914373811ece7ff4254dca": {
          "model_module": "@jupyter-widgets/controls",
          "model_name": "DescriptionStyleModel",
          "state": {
            "_view_name": "StyleView",
            "_model_name": "DescriptionStyleModel",
            "description_width": "",
            "_view_module": "@jupyter-widgets/base",
            "_model_module_version": "1.5.0",
            "_view_count": null,
            "_view_module_version": "1.2.0",
            "_model_module": "@jupyter-widgets/controls"
          },
          "model_module_version": "1.5.0"
        },
        "ff11835979554a17a052ab8f4fd9f65d": {
          "model_module": "@jupyter-widgets/base",
          "model_name": "LayoutModel",
          "state": {
            "_view_name": "LayoutView",
            "grid_template_rows": null,
            "right": null,
            "justify_content": null,
            "_view_module": "@jupyter-widgets/base",
            "overflow": null,
            "_model_module_version": "1.2.0",
            "_view_count": null,
            "flex_flow": null,
            "width": null,
            "min_width": null,
            "border": null,
            "align_items": null,
            "bottom": null,
            "_model_module": "@jupyter-widgets/base",
            "top": null,
            "grid_column": null,
            "overflow_y": null,
            "overflow_x": null,
            "grid_auto_flow": null,
            "grid_area": null,
            "grid_template_columns": null,
            "flex": null,
            "_model_name": "LayoutModel",
            "justify_items": null,
            "grid_row": null,
            "max_height": null,
            "align_content": null,
            "visibility": null,
            "align_self": null,
            "height": null,
            "min_height": null,
            "padding": null,
            "grid_auto_rows": null,
            "grid_gap": null,
            "max_width": null,
            "order": null,
            "_view_module_version": "1.2.0",
            "grid_template_areas": null,
            "object_position": null,
            "object_fit": null,
            "grid_auto_columns": null,
            "margin": null,
            "display": null,
            "left": null
          },
          "model_module_version": "1.2.0"
        },
        "5b1f7891046842f6846ad152c5f2ff42": {
          "model_module": "@jupyter-widgets/controls",
          "model_name": "HBoxModel",
          "state": {
            "_view_name": "HBoxView",
            "_dom_classes": [],
            "_model_name": "HBoxModel",
            "_view_module": "@jupyter-widgets/controls",
            "_model_module_version": "1.5.0",
            "_view_count": null,
            "_view_module_version": "1.5.0",
            "box_style": "",
            "layout": "IPY_MODEL_b5442342b7b0485fa64e73d9088c4184",
            "_model_module": "@jupyter-widgets/controls",
            "children": [
              "IPY_MODEL_0a3985d6a7544218880abe90073ccf4c",
              "IPY_MODEL_1497505f8db04417ad13dfc8f189f6e2"
            ]
          },
          "model_module_version": "1.5.0"
        },
        "b5442342b7b0485fa64e73d9088c4184": {
          "model_module": "@jupyter-widgets/base",
          "model_name": "LayoutModel",
          "state": {
            "_view_name": "LayoutView",
            "grid_template_rows": null,
            "right": null,
            "justify_content": null,
            "_view_module": "@jupyter-widgets/base",
            "overflow": null,
            "_model_module_version": "1.2.0",
            "_view_count": null,
            "flex_flow": null,
            "width": null,
            "min_width": null,
            "border": null,
            "align_items": null,
            "bottom": null,
            "_model_module": "@jupyter-widgets/base",
            "top": null,
            "grid_column": null,
            "overflow_y": null,
            "overflow_x": null,
            "grid_auto_flow": null,
            "grid_area": null,
            "grid_template_columns": null,
            "flex": null,
            "_model_name": "LayoutModel",
            "justify_items": null,
            "grid_row": null,
            "max_height": null,
            "align_content": null,
            "visibility": null,
            "align_self": null,
            "height": null,
            "min_height": null,
            "padding": null,
            "grid_auto_rows": null,
            "grid_gap": null,
            "max_width": null,
            "order": null,
            "_view_module_version": "1.2.0",
            "grid_template_areas": null,
            "object_position": null,
            "object_fit": null,
            "grid_auto_columns": null,
            "margin": null,
            "display": null,
            "left": null
          },
          "model_module_version": "1.2.0"
        },
        "0a3985d6a7544218880abe90073ccf4c": {
          "model_module": "@jupyter-widgets/controls",
          "model_name": "FloatProgressModel",
          "state": {
            "_view_name": "ProgressView",
            "style": "IPY_MODEL_7b4ecb8b64ff4413addd26f793e4e983",
            "_dom_classes": [],
            "description": "Downloading: 100%",
            "_model_name": "FloatProgressModel",
            "bar_style": "success",
            "max": 411577189,
            "_view_module": "@jupyter-widgets/controls",
            "_model_module_version": "1.5.0",
            "value": 411577189,
            "_view_count": null,
            "_view_module_version": "1.5.0",
            "orientation": "horizontal",
            "min": 0,
            "description_tooltip": null,
            "_model_module": "@jupyter-widgets/controls",
            "layout": "IPY_MODEL_c6507d09f10046bd82994ed0a40b7ed8"
          },
          "model_module_version": "1.5.0"
        },
        "1497505f8db04417ad13dfc8f189f6e2": {
          "model_module": "@jupyter-widgets/controls",
          "model_name": "HTMLModel",
          "state": {
            "_view_name": "HTMLView",
            "style": "IPY_MODEL_2ba7737859b74a73957e33b0a8b2a89b",
            "_dom_classes": [],
            "description": "",
            "_model_name": "HTMLModel",
            "placeholder": "​",
            "_view_module": "@jupyter-widgets/controls",
            "_model_module_version": "1.5.0",
            "value": " 412M/412M [00:11&lt;00:00, 35.1MB/s]",
            "_view_count": null,
            "_view_module_version": "1.5.0",
            "description_tooltip": null,
            "_model_module": "@jupyter-widgets/controls",
            "layout": "IPY_MODEL_1f491f695c174b4fa9ccd6238a5e93fd"
          },
          "model_module_version": "1.5.0"
        },
        "7b4ecb8b64ff4413addd26f793e4e983": {
          "model_module": "@jupyter-widgets/controls",
          "model_name": "ProgressStyleModel",
          "state": {
            "_view_name": "StyleView",
            "_model_name": "ProgressStyleModel",
            "description_width": "initial",
            "_view_module": "@jupyter-widgets/base",
            "_model_module_version": "1.5.0",
            "_view_count": null,
            "_view_module_version": "1.2.0",
            "bar_color": null,
            "_model_module": "@jupyter-widgets/controls"
          },
          "model_module_version": "1.5.0"
        },
        "c6507d09f10046bd82994ed0a40b7ed8": {
          "model_module": "@jupyter-widgets/base",
          "model_name": "LayoutModel",
          "state": {
            "_view_name": "LayoutView",
            "grid_template_rows": null,
            "right": null,
            "justify_content": null,
            "_view_module": "@jupyter-widgets/base",
            "overflow": null,
            "_model_module_version": "1.2.0",
            "_view_count": null,
            "flex_flow": null,
            "width": null,
            "min_width": null,
            "border": null,
            "align_items": null,
            "bottom": null,
            "_model_module": "@jupyter-widgets/base",
            "top": null,
            "grid_column": null,
            "overflow_y": null,
            "overflow_x": null,
            "grid_auto_flow": null,
            "grid_area": null,
            "grid_template_columns": null,
            "flex": null,
            "_model_name": "LayoutModel",
            "justify_items": null,
            "grid_row": null,
            "max_height": null,
            "align_content": null,
            "visibility": null,
            "align_self": null,
            "height": null,
            "min_height": null,
            "padding": null,
            "grid_auto_rows": null,
            "grid_gap": null,
            "max_width": null,
            "order": null,
            "_view_module_version": "1.2.0",
            "grid_template_areas": null,
            "object_position": null,
            "object_fit": null,
            "grid_auto_columns": null,
            "margin": null,
            "display": null,
            "left": null
          },
          "model_module_version": "1.2.0"
        },
        "2ba7737859b74a73957e33b0a8b2a89b": {
          "model_module": "@jupyter-widgets/controls",
          "model_name": "DescriptionStyleModel",
          "state": {
            "_view_name": "StyleView",
            "_model_name": "DescriptionStyleModel",
            "description_width": "",
            "_view_module": "@jupyter-widgets/base",
            "_model_module_version": "1.5.0",
            "_view_count": null,
            "_view_module_version": "1.2.0",
            "_model_module": "@jupyter-widgets/controls"
          },
          "model_module_version": "1.5.0"
        },
        "1f491f695c174b4fa9ccd6238a5e93fd": {
          "model_module": "@jupyter-widgets/base",
          "model_name": "LayoutModel",
          "state": {
            "_view_name": "LayoutView",
            "grid_template_rows": null,
            "right": null,
            "justify_content": null,
            "_view_module": "@jupyter-widgets/base",
            "overflow": null,
            "_model_module_version": "1.2.0",
            "_view_count": null,
            "flex_flow": null,
            "width": null,
            "min_width": null,
            "border": null,
            "align_items": null,
            "bottom": null,
            "_model_module": "@jupyter-widgets/base",
            "top": null,
            "grid_column": null,
            "overflow_y": null,
            "overflow_x": null,
            "grid_auto_flow": null,
            "grid_area": null,
            "grid_template_columns": null,
            "flex": null,
            "_model_name": "LayoutModel",
            "justify_items": null,
            "grid_row": null,
            "max_height": null,
            "align_content": null,
            "visibility": null,
            "align_self": null,
            "height": null,
            "min_height": null,
            "padding": null,
            "grid_auto_rows": null,
            "grid_gap": null,
            "max_width": null,
            "order": null,
            "_view_module_version": "1.2.0",
            "grid_template_areas": null,
            "object_position": null,
            "object_fit": null,
            "grid_auto_columns": null,
            "margin": null,
            "display": null,
            "left": null
          },
          "model_module_version": "1.2.0"
        }
      }
    }
  },
  "cells": [
    {
      "cell_type": "markdown",
      "metadata": {
        "id": "view-in-github",
        "colab_type": "text"
      },
      "source": [
        "<a href=\"https://colab.research.google.com/github/asandy1023/devops-demo/blob/master/taiwan_aicup_Spring_bert.ipynb\" target=\"_parent\"><img src=\"https://colab.research.google.com/assets/colab-badge.svg\" alt=\"Open In Colab\"/></a>"
      ]
    },
    {
      "cell_type": "code",
      "metadata": {
        "colab": {
          "base_uri": "https://localhost:8080/"
        },
        "id": "nP9KXP1gmle_",
        "outputId": "418af15a-07bb-4759-b2aa-9a5e153e8853"
      },
      "source": [
        "from google.colab import drive\n",
        "drive.mount('/content/drive')"
      ],
      "execution_count": null,
      "outputs": [
        {
          "output_type": "stream",
          "text": [
            "Mounted at /content/drive\n"
          ],
          "name": "stdout"
        }
      ]
    },
    {
      "cell_type": "code",
      "metadata": {
        "colab": {
          "base_uri": "https://localhost:8080/",
          "height": 835,
          "referenced_widgets": [
            "171cdb68521f44b1b755bec3d40461ed",
            "214dd009fab046a9a2fad5eb4f1ee0a2",
            "4579e28e076a4ded8ea87ec7802679a5",
            "d468f7bb286041cf88f81e1179324c7c",
            "6877ab2eee5942c8900035b0d155c248",
            "d5a1715b5ddb4b1094ca00824c1f8130",
            "9e5bfb4735084447876dd6fc531d9bb1",
            "c30ef694ba674899a88fe460239a6058",
            "37be00aee30c46d8bbde96fbf4fe4568",
            "94a35972163b4f8ead26ab69e9441ade",
            "1ca16c2417f547449283bffa5d127f65",
            "d7a9625e26324afdb42eb2936aa0472f",
            "d68399f1bc564bb69e6ca3ec96190603",
            "39f475e3122b474ca9aca589df573be9",
            "df1954098d13468d8030cd55e7bd0700",
            "f273b9a189ca4cd78786552856883c57",
            "286a22b843dc40909d2e18cb01ac4c34",
            "baac4dcdaa5249f494017e8675822c97",
            "f043628e6e3c41828ee864067a0b72c0",
            "24c0eac1b6154647b63b6b68747ace94",
            "3e9fcef3c25549e490d2f58863d32be8",
            "1978df6aebc94b53bf152327b0e67098",
            "60a239486c8f4ede8117c672c4649ec0",
            "fe5935a4ce5a4e6481a17bacdde40ad7",
            "b2a6d9720fe347168b5bbe67be84b282",
            "b7fe9e6325f74d09b2cc98d4de7a6385",
            "faeed63834be4201ba197f1bd6a116b9",
            "1f7b52e1f26e4024997d0fb0a33b0214",
            "5b0450cee5ac401784a49e8394d7d75e",
            "c84a1c713c3b409b95d89854cab31a35",
            "685ab06a71914373811ece7ff4254dca",
            "ff11835979554a17a052ab8f4fd9f65d",
            "5b1f7891046842f6846ad152c5f2ff42",
            "b5442342b7b0485fa64e73d9088c4184",
            "0a3985d6a7544218880abe90073ccf4c",
            "1497505f8db04417ad13dfc8f189f6e2",
            "7b4ecb8b64ff4413addd26f793e4e983",
            "c6507d09f10046bd82994ed0a40b7ed8",
            "2ba7737859b74a73957e33b0a8b2a89b",
            "1f491f695c174b4fa9ccd6238a5e93fd"
          ]
        },
        "id": "SS64rX98m1Hr",
        "outputId": "4ee26248-dd4c-409c-a397-9a567d3ed6aa"
      },
      "source": [
        "!pip install transformers\n",
        "\n",
        "import torch\n",
        "import json\n",
        "import sys\n",
        "import re\n",
        "import pandas as pd\n",
        "import numpy as np\n",
        "from transformers import BertTokenizer, AutoTokenizer, AutoModel\n",
        "from IPython.display import clear_output\n",
        "\n",
        "\n",
        "\n",
        "PRETRAINED_MODEL_NAME = \"bert-base-chinese\"  # Chinese BERT-BASE pre-trained model\n",
        "# The tokenizer used by the model \n",
        "tokenizer = AutoTokenizer.from_pretrained('bert-base-chinese')\n",
        "embedding = AutoModel.from_pretrained('bert-base-chinese')\n",
        "\n",
        "clear_output()\n",
        "print(\"PyTorch 版本：\", torch.__version__)"
      ],
      "execution_count": null,
      "outputs": [
        {
          "output_type": "stream",
          "text": [
            "PyTorch 版本： 1.8.1+cu101\n"
          ],
          "name": "stdout"
        }
      ]
    },
    {
      "cell_type": "code",
      "metadata": {
        "id": "1xdL1uPam8aX"
      },
      "source": [
        "# preprocessing\n",
        "def Sentence_Segmentation(line):\n",
        "  temp = re.split(r\"([。])\",line)\n",
        "  # period join\n",
        "  for i in range( len(temp) ):\n",
        "    if temp[i] == '。':\n",
        "      temp[i-1] = temp[i-1] + temp[i]\n",
        "  # delete\n",
        "  r_lines = [line for line in temp if not line in ['', '。']]\n",
        "  return r_lines"
      ],
      "execution_count": null,
      "outputs": []
    },
    {
      "cell_type": "code",
      "metadata": {
        "id": "SlUT0KYHnJLD"
      },
      "source": [
        "# List擴充, data請輸入未斷詞單一字串\n",
        "def List_Append(vocs, txt):\n",
        "  # 斷句\n",
        "  sents = Sentence_Segmentation(txt)\n",
        "  for sent in sents:\n",
        "    # BERT斷詞\n",
        "    sent_token = []\n",
        "    # 太長就分開\n",
        "    while len(sent) > 500 :\n",
        "      sent_token = sent_token + tokenizer.encode(sent[:500])\n",
        "      sent = sent[500:]\n",
        "    sent_token = sent_token + tokenizer.encode(sent[:500])\n",
        "\n",
        "    for word in sent:\n",
        "      if word not in vocs:\n",
        "        vocs.append(word)\n",
        "  return vocs"
      ],
      "execution_count": null,
      "outputs": []
    },
    {
      "cell_type": "code",
      "metadata": {
        "colab": {
          "base_uri": "https://localhost:8080/"
        },
        "id": "MMN_gCaqnRqD",
        "outputId": "ae01ac45-8ec3-42ec-dcbe-fb7091a03db5"
      },
      "source": [
        "csv_file = pd.read_csv(\"Train_risk_classification_ans.csv\", header=0,encoding='utf-8',dtype=str)\n",
        "csv_datas = pd.DataFrame(csv_file)\n",
        "print('有',len(csv_datas),'組資料')\n",
        "csv_datas[:5]['text']"
      ],
      "execution_count": null,
      "outputs": [
        {
          "output_type": "stream",
          "text": [
            "有 346 組資料\n"
          ],
          "name": "stdout"
        },
        {
          "output_type": "execute_result",
          "data": {
            "text/plain": [
              "0    個管師：這個月還好嗎？民眾：蛤？個管師：這個月還好嗎？民眾：這個月還好。個管師：還好，還可以...\n",
              "1    個管師：所以你這個月還OK？民眾：還OK啊。個管師：那有固定伴侶嗎？民眾：沒有。個管師：你一...\n",
              "2    民眾：啊就在忙裝潢啊～幹嘛的。個管師：嗯。民眾：對。個管師：所以都在熬夜？民眾：對，都一直熬...\n",
              "3    個管師：對啊，你是說你要幫，我幫你給這個？你說小花跟你。民眾：現在是狀況是還好。個管師：嗯。...\n",
              "4    個管師：好喔，過去這一個月還好嗎？民眾：恩，還可以。個管師：那今天是請假？民眾：沒有，晚上上...\n",
              "Name: text, dtype: object"
            ]
          },
          "metadata": {
            "tags": []
          },
          "execution_count": 4
        }
      ]
    },
    {
      "cell_type": "code",
      "metadata": {
        "colab": {
          "base_uri": "https://localhost:8080/"
        },
        "id": "lVYPw0OmnSHC",
        "outputId": "b770cdfc-37e3-48fb-8192-066e8710a00e"
      },
      "source": [
        "# Create vocab_list and embeddings for classification datasets\n",
        "vocabs = ['[PAD]']\n",
        "\n",
        "for text in csv_datas['text']:\n",
        "  vocabs = List_Append(vocabs, text)\n",
        "\n",
        "print('vocabs共 %d 筆資料' % ( len(vocabs) ) )\n",
        "print(vocabs)"
      ],
      "execution_count": null,
      "outputs": [
        {
          "output_type": "stream",
          "text": [
            "vocabs共 2381 筆資料\n",
            "['[PAD]', '個', '管', '師', '：', '這', '月', '還', '好', '嗎', '？', '民', '眾', '蛤', '。', '，', '可', '以', '有', '性', '行', '為', '所', '是', '跟', '固', '定', '伴', '侶', '對', '喔', '阿', '你', '囉', '本', '來', '就', '只', '比', '較', '忙', '很', '少', '約', '一', '直', '都', '那', '恩', '诶', '不', '後', '用', '他', '的', '然', '扮', '相', '沒', '了', '什', '麼', '身', '分', '吃', 'P', 'r', 'E', '我', '朋', '友', '們', '做', '時', '候', '現', '在', '1', '2', '之', '前', '夠', '話', '會', '拿', '剛', '因', '也', 'O', 'K', '要', '說', '戴', '套', '二', '擇', '樣', '子', '啊', '能', '怕', '如', '果', '方', '炮', '講', '外', '面', '幹', '嘛', '信', '多', '久', '五', '、', '六', '年', '吧', '啦', '七', '八', '次', '曉', '得', '想', '耶', '主', '動', '去', '但', '基', '上', '忘', '記', '全', '程', '應', '該', '求', '當', '哪', '哈', '喜', '歡', '反', '而', '覺', '⋯', '哼', '任', '務', '型', '嗯', '導', '致', '才', '幾', '組', '兩', '正', '保', '險', '自', '己', '關', '係', '藥', '天', '或', '再', '安', '感', '無', '差', '嘿', '擔', '心', '害', '效', '情', '境', '問', '下', '顆', '隔', '十', '四', '小', '到', '甚', '至', '護', '給', '看', '證', '明', '文', '件', '從', '事', '其', '實', '被', '染', '呀', '題', '假', '日', '待', '家', '裡', '玩', '出', '乎', '太', '黑', '板', '樹', '最', '近', '每', '星', '期', '三', '打', '牌', '橋', '錢', '階', '段', '見', '找', '禮', '拜', '班', '點', '過', '且', '又', '清', '床', '麻', '煩', '整', '理', '討', '厭', '原', '部', '於', '解', '聽', '起', '大', '地', '則', '希', '望', '預', '防', '並', '欸', '開', '始', '指', '類', '般', '男', '人', '發', '生', '同', '象', '工', '作', '累', '像', '先', '尿', '道', '復', '狀', '況', '治', '療', '完', '疾', '病', '別', '等', '間', '概', '將', '5', '4', '第', '焦', '慮', '力', '者', '數', '偶', '爾', '意', '思', '呢', '更', '知', '底', '讓', '選', '決', '素', '…', '變', '成', '種', '放', '帶', '何', '份', '風', '誒', '貌', '紐', '醫', '院', '買', '學', '名', '維', '持', '呃', '些', '機', '率', '高', '提', '接', '改', '頻', '法', '李', '楚', '釐', '抓', '念', '今', '寧', '願', '8', 'k', '暸', '向', '算', '早', '內', '避', '免', 'o', '裝', '潢', '～', '熬', '夜', '回', '眠', '睡', '精', '神', '9', '平', '均', '！', '吼', '羨', '慕', '例', '射', '真', '怎', '哥', '叫', '建', '議', '按', '確', '乾', '脆', '住', '興', '奮', '驗', '陪', '額', '釋', '請', '交', '軟', '體', '加', '評', '估', '付', '目', '排', '補', '幫', '雖', '彼', '此', '各', 'Ｈ', 'Ｉ', 'Ｖ', '造', '觸', '普', '遍', '增', '梅', '毒', '淋', 'Ｏ', 'Ｋ', '6', '0', '疫', '降', '難', '把', '連', '7', '蠻', '規', '律', '活', '瘦', '幸', '福', '肥', '耗', '胖', '臉', '花', 'L', 'I', 'N', '順', '眼', '際', '它', '干', '擾', '·', '常', '遇', '越', '兇', '吸', '重', '美', '診', '短', '已', '經', '錄', '取', '稽', '核', '層', '流', '序', '聊', '東', '西', '砲', '影', '響', '暫', '離', '縣', '市', '辦', '控', '制', '3', '試', '飯', '息', '稍', '微', '誰', '認', '隱', '藏', '錯', '哦', '紀', '長', '捏', '識', '初', '懂', '單', '純', '訊', '覆', '場', '碰', '敲', '周', '介', '紹', '配', '合', '髒', '愉', '悅', '快', '樂', '續', '抗', '拒', '憂', '鬱', '極', '度', '空', '虛', '追', '察', '破', '功', '另', '共', '甘', '式', '遠', '源', '靠', '志', '尋', '科', '諮', '商', '供', '專', '業', '包', '含', '癮', '物', '使', '結', '房', '弟', '樓', '鬼', '片', '故', '趣', '轉', '移', '注', '助', '壓', '症', '互', '照', '刪', '掉', '強', '迫', '設', '需', '協', '晚', '調', '酒', '除', '呵', '乖', '亨', '陽', '曾', '冒', '減', '舒', '服', '抽', '血', '齁', '報', '告', '林', '費', '異', '廠', '中', '詢', '途', '徑', '液', '換', '咧', 'H', 'V', '阻', '斷', '代', '表', '存', '網', '路', '誤', '訴', 'B', '肝', '檢', '查', '突', '計', '畫', '公', '陳', '左', '右', '堅', '勒', '往', '特', '傳', '絕', '劑', '量', '具', '醒', '低', '研', '究', '唯', '運', '謂', '濃', '殺', '死', '患', '徵', '歸', '案', '省', '容', '易', '斥', '論', '詳', '細', '拍', '偷', '走', '趟', '警', '局', '裸', '露', '陰', '默', '許', '鼓', '勵', '嘗', '收', '集', '受', '允', '習', '慣', '考', '格', '畢', '竟', '櫃', '環', '沉', '恰', '獨', '姊', '百', '雙', '零', '非', '王', '疑', '及', '新', '寬', '圈', '滿', '濫', '贊', '隆', '銜', '邊', '北', '似', '聯', '絡', '衛', '通', '誠', '老', '瞭', '恐', '懼', '承', '疼', '慢', '漸', '未', '閨', '密', '糖', '刮', '鬍', '刀', '侵', '入', '倒', '私', '品', '切', '測', '態', '迷', '叉', 'n', '披', '衣', '菌', '繼', '領', '條', '填', '寫', '恕', '積', '系', '統', '鎖', '進', '簽', '範', '曆', '顏', '色', '妳', '白', '裏', '張', '總', '瓶', '九', '踢', '萬', '塊', '門', '和', '午', '必', '須', '參', '署', '書', '卷', '丟', '截', '圖', '昨', '讀', '資', '半', '痔', '瘡', '唸', '劉', '劃', '手', '剩', '罐', '撐', 'R', '購', '適', '圍', '搶', '頭', '香', '符', '漏', '痾', '嗨', '託', '貞', '節', '坊', '台', '洗', '檳', '榔', '煙', '腿', 'e', 'y', '滴', '口', '碑', '著', '危', '努', '根', '據', 'f', 'u', '塑', '膠', '緣', '擦', '槍', '火', '拔', '謝', '敢', '勉', '疙', '瘩', '顧', '哎', '陣', '革', '命', '腎', '器', '官', '泄', '健', '康', '賣', '送', '盒', '珍', '貴', 'c', 'p', '值', '停', '呦', '宿', '姐', '餐', '廳', '渡', '餓', '搬', '棟', '便', '店', '衰', '灌', '硬', '亂', '譬', '號', '留', '餒', '華', '惰', '奇', '怪', '替', '役', '吵', '架', '職', '義', '推', '翻', '衝', '夏', '令', '營', '充', '印', '冰', 'Ｃ', 'Ｅ', 'Ｇ', '辨', '盡', 'Ｒ', 'Ｕ', 'Ｓ', 'Ｐ', '顯', '菜', '示', '針', '穩', '超', '噁', '嚴', '瞬', '依', '吐', '拉', '麗', '邂', '逅', '悟', '週', '末', '退', '背', '蛛', '絲', '馬', '跡', '蒐', 'F', 'U', 'C', 'T', '摸', '觀', '肉', 'A', 'Y', 'W', '瘋', '狂', '掛', '笑', '措', '施', '展', '澄', '昇', '標', '球', '遭', '氣', '傾', '賭', '爽', '輕', '嘔', '女', '愛', '婚', '帥', '嫁', '賞', '暴', '檯', '繳', '咦', 'Ｂ', '音', '波', 'Ｘ', '光', '室', '弄', '項', '毛', '胃', '腹', '忍', '暈', 'Ｌ', 'Ｎ', '卡', '址', 'w', '.', 'g', 'v', '備', 'Ｍ', 'Ａ', '步', '窗', '輸', '苗', '複', '糾', '折', '磨', '站', '英', '字', 'M', '處', '箋', '款', '帳', '申', '否', '蹤', '紙', '喲', '泰', '國', '鑑', '昏', '利', 'S', '延', '紅', 'm', 'a', 'b', '熟', '怖', '客', '邏', '輯', '悉', '秒', '麽', '慶', '祝', '置', '障', '舉', '烈', '儘', '秋', '臨', '即', 's', '泌', '摩', '嘴', '巴', '傷', '爆', '位', '皮', '膜', '喝', '夾', '桌', '筷', '惶', '脖', '痛', '慾', '副', '飛', '杯', '登', '宴', '束', '列', '銷', '答', '勾', '終', '廝', '守', '株', '舊', '電', '蓮', '雄', '歷', '陸', '聲', '克', '頂', '礙', '訪', '戶', '穿', '跑', '司', '鍋', '傍', '哨', '消', '爲', '説', '騷', '貓', '跳', '后', '宜', '趴', '落', '肚', '漲', '價', '優', '惠', 'l', 'i', '註', '聼', '葩', '閡', '瘙', '癢', '罩', '熊', '隨', '哇', 'h', '饋', '飽', '内', '遊', '戲', '瞌', '峰', '斤', '懷', '廟', '金', '融', '唉', '諱', '銀', '員', '桃', '園', '旅', '氛', '悔', '滋', '繁', '權', '政', '府', '輩', '速', '捲', '脹', '形', '緊', '棒', '嘉', '距', '封', '閉', '屬', '坦', '呂', '敏', '籤', '括', '壞', '兼', '爺', '奶', '佛', '課', '篇', '寡', '爭', '智', '慧', '莫', '嚇', '雜', '散', '墊', '脫', '群', '永', '戀', '尺', '績', '訂', '妝', '萊', '雅', '蘭', '蔻', '急', '浮', '躁', '簡', '產', '監', '視', '膩', '妙', '唷', '=', '督', '偏', '溫', '暖', '抱', '元', '逃', '準', '炎', '礎', '坐', '冷', '籃', '暑', '隊', '濟', '倍', '撕', '裂', '黏', '孩', '炸', '山', '海', '味', '魂', '詞', '憑', '負', '料', '腔', '唾', '篩', '逆', '質', '區', '困', '與', '教', '灣', '歐', '鬆', '娛', '某', '撫', '聞', '鍵', '孕', 'd', '彰', '化', '止', '售', '「', '寄', '」', '她', '製', '喘', '哩', '緩', '休', '蕩', '婦', '浪', 'G', 'D', '首', '搞', '混', '技', '錶', '攸', '匿', '透', '衡', '善', '擋', '趕', '掃', '尷', '尬', '厚', '爛', '杜', '蕾', '斯', '袋', '岡', '薄', '油', '誇', '傻', '既', '弱', '刺', '激', '癌', '扣', '箱', '晉', '升', '線', '裕', '蓋', '章', '鬧', '鐘', '欲', '蝨', '覽', '臺', '卵', '孵', '廁', '由', '芽', '燒', '凍', '塗', '抹', '秤', '殘', '癒', '斬', '草', '膿', '飲', '食', '攻', '擊', '耳', '角', '虎', '吳', '千', '談', '邦', '桶', '聚', '招', '呼', '陌', '尤', '粗', 'z', '哭', '言', '凝', '潤', '滑', '凶', '撩', '懶', '搭', '居', '丸', '燈', '模', '膚', '痘', '驚', '縮', '足', '劇', '浩', '碌', '央', '跨', '黃', '貨', '拖', '秀', '德', '瑞', '典', '販', '附', '頓', '緒', '靜', '旁', '鈕', '衍', '逛', '街', '親', '鮮', '碼', '櫻', '溝', '稠', '水', '潔', '校', '失', '褲', '睛', 'Ｆ', '粉', '綠', '厲', '燕', '尚', '酷', '輪', '綜', 'j', '腺', '肛', '骨', '挑', '良', '辰', '吉', '曬', '屏', '琉', 't', '涼', '掰', '雞', '挺', '歲', '蔡', '立', '翹', '臀', '熱', '悶', '猶', '豫', '搗', '蒜', '壤', '韓', '擠', '庚', '催', '批', '支', '歉', '投', '館', '腦', '救', '齊', '呆', '撥', '亡', '矛', '盾', '矜', '諸', '藍', '限', '矩', '溯', '咳', '嗽', '蹭', '削', '芒', '沾', '盤', '肺', '痰', '割', '沖', 'ｆ', 'ｅ', 'ｌ', '咖', '啡', '戒', '乘', '級', '唔', '阪', '并', '壁', '抵', '爸', '媽', '菸', '甲', '稱', '晦', '潮', '術', '語', '苦', '辛', '遺', '臟', '腸', '拼', '拚', '喬', '糟', '糕', '猜', '隻', '缺', '檻', '閃', '拋', '棄', '掌', '握', '划', '偽', '世', '界', '土', '責', '景', '刷', '季', '享', '憶', '抑', '朝', '趁', '肯', '粒', '尾', '勇', '貼', '雨', '肌', '酸', '酐', '練', '蛋', '爬', 'ㄟ', '捐', '士', '胞', '曲', '淨', '窩', '南', '涉', '喂', '龍', '夫', '丈', '編', '母', '尼', '萎', '盛', '併', '廣', '擺', '堆', '挪', '吞', '疏', '端', '車', '禍', '腳', '拐', '杖', '跌', '養', '鈣', '疊', '譚', '京', '宇', '修', '佈', '啓', '嵗', '孝', '弊', '殖', '彈', '嘞', '涵', '趨', '判', '契', '兒', '廢', '禦', '野', '柳', '弧', '映', '沫', '仍', '煉', '猛', '濕', '慌', '姓', '氏', '載', '欣', '拆', '茶', '檔', '操', '刻', '筆', '准', '頗', '箝', '豆', '貸', '債', '愧', '疚', '勢', '逼', '借', '憐', '賺', '攤', '牽', '予', '郵', '榮', '戰', '藉', '吻', '玄', '疹', '飆', '忽', '循', '癖', '嬤', '咯', '青', '春', '獲', '厰', '木', '葉', '村', ' ', '返', '曝', '暗', '曡', '恢', '%', '﹑', '渣', '妖', '魔', '橘', '邀', '飄', '創', '嘍', '慘', '澳', '洲', '座', '瞧', '龜', '鏢', '獎', '億', '吹', '疲', '乏', '躺', '游', '泳', '堤', '樞', '達', '幻', '腕', '扭', '筋', '逝', '．', '摟', '勁', '挨', '屁', '股', '笨', '夕', '疣', '凸', '圓', '蟲', '咬', '嘶', '幣', '策', '潛', '旺', '鼻', '-', '竹', '煞', '盯', '促', '曼', '傑', '挫', '囊', '枝', '紫', '堵', '薦', '寮', '句', '歪', '踩', '雷', '/', '狗', '若', '橫', '幅', '繫', '溼', '庫', '插', '競', '蕭', '禁', '騰', '略', '孳', '凱', '宣', '噢', '撞', '釣', '谷', '娘', '潑', '糧', 'X', '稀', '卻', '田', '匆', '猴', '褪', '斜', '祖', '宗', '魚', '撿', '滅', '污', '族', '嘖', '醉', '蚊', '叮', '頁', '粹', '威', '鋼', '探', '瘀', '伸', '淆', '閒', '惡', '童', '逐', '宮', '頸', '巧', '訓', '搜', '鋌', '鏈', '犯', '淡', '鐵', '貧', '攝', '葡', '萄', '深', '豐', '富', '牛', '描', '亮', '錠', '益', '酪', '乳', '伯', '瓣', '腫', '引', '鏡', '洞', '狹', '窄', '燙', '惱', '餘', '疝', '膽', '磷', '堪', '梯', '腰', '痠', '氧', '氫', '膏', '茫', '頑', '簿', '湄', '姨', '牙', '齒', '肩', '膀', '廖', '戚', '髮', '嗅', '喪', '涕', '擤', '噴', '竇', '畏', '寒', '鋅', '怠', '倦', '育', '畜', '牧', '瘟', '餃', '析', '泡', '樟', '芝', '巫', '孫', '僵', '楊', '雲', '肢', '綁', '蝦', '蜂', '織', '浸', '瀉', '‧', '磁', '振', '碘', '繃', '膝', '伏', '脂', '烘', '焙', '麵', '餅', '荷', '盜', '汗', '醇', '社', '垃', '圾', '殊', '躍', '酵', '憊', '唄', '團', '矽', '晶', '幼', '稚', '勞', '喉', '嚨', '脾', '奈', '米', '濾', '肪', '償', 'Ｔ', '石', '胎', '疸', '糞', '纖', '耐', '江', '脈', '搏', '噎', '舌', '棉', '灰', '肋', '橡', '俊', '賀', '蒙', '甜', '煮', '儲', '碗', '炒', '蘋', '胰', '島', '盟', '巨', '扎', '濺', '洛', '凌', '晨', '潰', '瘍', '騎', '踏', '納', '黴', '涂', '宵', '寢', '着', 'Q', '賓', '槌', '側', '弛', '眩', '糊', '斟', '酌', '鄭', '釘', '廚', '冬', '武', '漢', '瘤', '沿', '姿', '齦', '輻', '躲', '玻', '璃', '娃', '侏', '儒', '竄', '胸', '疔', '罵', '鹽', '衆', '礦', '麥', '扁', '井', '壽', '布', '魯', '碎', '夢', '恍', '惚', '剝', '擴', '髓', '帕', '森', '朵', '庭', '羞', '恥', '椎', '揍', '杉', '磯', '鄰', '莊', '溪', '豪', '鄉', '瞞', '嬸', 'Ｄ', '沙', '抖', '亢', '徐', '蛀', '攪', '紛', '瀑', '池', '邵', '翰', '執', '授', '縱', '叔', '恭', '您', '盲', '狼', '斑', '嫌', '巡', '審', '湯', '澱', '燜', '蔬', '姪', '蕁', '姑', '癬', '咪', '亞', '酯', '唱', '歌', '勝', '齡', '尖', '鎮', '脊', '敗', '潦', '述', '史', '拷', '貝', '摘', '蝕', '肘', '縫', '撇', '唇', '博', '胺', '慈', '漱', '撮', '欽', '殼', '鍾', '茄', '托', '抿', '蜜', '螃', '蟹', '鞋', '仙', '聖', '誕', '派', '吩', '咐', '昂', '欄', '屋', '塵', '演', 'Ｙ', '植', '渾', '噩', '搥', '欠', '絞', '癱', '皰', '彩', '搓', '摳', '痱', '辣', '醬', '歹', '妹', '媳', '艾', '汎', '版', '曹', '培', '桿', '鼠', '蹊', '蠢', '川', '龔', '偉', '哲', '儀', '構', '椅', '摔', '洪', '澤', '弓', '漿', '滷', '輔', '鞏', '幽', '耍', '矮', '鳳', '梨', '勤', '軌', '痊', '嗜', '嚏', '淚', '幕', '闆', '燥', '皂', '癲', '癇', '瓜', '醣', '挖', '灶', '鳥', '嗝', '霖', '霧', '螢', '塞', '暢', '驅', '竭', '淤', '嬰', '吊', '昧', '檸', '檬', '薑', '汁', '醋', '秘', '譜', '瓢', '盂', '郎', '寶', '祕', '佐', '冊', '燃', '稅', '喊', '彎', '萱', '毫', '胱', 'ｓ', 'ｕ', 'ｂ', 'ｔ', 'ａ', 'ｉ', 'ｏ', 'ｎ', '悸', '兵', '汽', '罰', '滾', '澡', '朗', '沐', '浴', '梢', '佔', '農', '珠', '丘', '痂', '箭', '掀', '痕', '蠕', '韋', '鋁', '鎂', '牠', '筍', '豬', '忌', '糙', 'ｋ', '寵', '腴', '抬', '摺', '橢', '淺', '滲', '鹹', '泉', '踴', '楷', '柔', '輝', '糰', '揪', '恙', '鈉', '鉀', '獻', '里', '柏', '霉', '敷', '採', '鉤', '螺', '旋', '蚤', '皇', '佳', '惜', '贅', '薪', '靈', '柺', '憩', '盆', 'ｒ', 'ｃ', 'ｍ', 'ｐ', 'ｗ', 'ｈ', '\\u3000', 'ｙ', '屎', '棋', '擬', '倫', '扶', '漂', '毯', '鳴', '戳', '奎', '膨', '髖', '湘', '栓', '邁', '丁', '彙', '鋒', '搔', '軍', '甩', '娜', '索', '鴻', '芳', '播', '傅', '讚', '呐', '徹', '咿', '材', '壯', '碩', '墅', '噪', '錘', '誘', '趾', '剪', '揮', '愈', '凡', '忠', '嚥', '鑿', '迴', '粥', '蹋', '耀', '仁', '枚', '援', '墾', '貢', '湖', '仔', '鋪', '押', '船', '颱', '繞', '剖', '罕', '腱', '鹼', '添', '濁', '徘', '徊', '鍛', '鍊', '絨', '穀', '饅', '咕', '嚕', '抄', '羅', '臭', '塔', '蹦', '疤', '凹', '槽', '綿', '貪', '炭', '腐', '沈', '垂', '枕', '席', '吱', '遮', '遲', '鈍', '唆', '恆', '妨', '渴', '烏', '洱', '啞', '醃', '漬', '溶', '委', '婉', '勸', '賠', '駕']\n"
          ],
          "name": "stdout"
        }
      ]
    },
    {
      "cell_type": "code",
      "metadata": {
        "id": "F0TSZ6D-u-w6"
      },
      "source": [
        "##########################################"
      ],
      "execution_count": null,
      "outputs": []
    },
    {
      "cell_type": "code",
      "metadata": {
        "colab": {
          "base_uri": "https://localhost:8080/"
        },
        "id": "-Aq5a5kle38m",
        "outputId": "73c1db65-f5b7-40f7-b0fe-f1fdadf1613a"
      },
      "source": [
        "# Load the vocab.json file\n",
        "vocabs_file = open('vocab.json')\n",
        "vocabs_dict = json.load(vocabs_file)\n",
        "print(len(vocabs_dict))\n",
        "print(vocabs_dict)"
      ],
      "execution_count": null,
      "outputs": [
        {
          "output_type": "stream",
          "text": [
            "2392\n",
            "{'[PAD]': 0, '：': 1, '這': 2, '個': 3, '月': 4, '還': 5, '好': 6, '嗎': 7, '？': 8, '蛤': 9, '，': 10, '可': 11, '以': 12, '有': 13, '性': 14, '行': 15, '為': 16, '所': 17, '是': 18, '跟': 19, '固': 20, '定': 21, '伴': 22, '侶': 23, '對': 24, '喔': 25, '阿': 26, '你': 27, '囉': 28, '本': 29, '來': 30, '就': 31, '只': 32, '比': 33, '較': 34, '忙': 35, '很': 36, '少': 37, '約': 38, '一': 39, '直': 40, '都': 41, '那': 42, '恩': 43, '诶': 44, '不': 45, '後': 46, '用': 47, '他': 48, '的': 49, '然': 50, '扮': 51, '相': 52, '沒': 53, '了': 54, '什': 55, '麼': 56, '身': 57, '分': 58, '吃': 59, 'P': 60, 'r': 61, 'E': 62, '我': 63, '朋': 64, '友': 65, '們': 66, '做': 67, '時': 68, '候': 69, '現': 70, '在': 71, '1': 72, '2': 73, '之': 74, '前': 75, '夠': 76, '話': 77, '會': 78, '拿': 79, '剛': 80, '因': 81, '也': 82, 'O': 83, 'K': 84, '要': 85, '說': 86, '戴': 87, '套': 88, '二': 89, '擇': 90, '樣': 91, '子': 92, '啊': 93, '能': 94, '怕': 95, '如': 96, '果': 97, '方': 98, '炮': 99, '講': 100, '外': 101, '面': 102, '幹': 103, '嘛': 104, '信': 105, '多': 106, '久': 107, '五': 108, '、': 109, '六': 110, '年': 111, '吧': 112, '啦': 113, '七': 114, '八': 115, '次': 116, '曉': 117, '得': 118, '想': 119, '耶': 120, '主': 121, '動': 122, '去': 123, '但': 124, '基': 125, '上': 126, '忘': 127, '記': 128, '全': 129, '程': 130, '應': 131, '該': 132, '求': 133, '當': 134, '哪': 135, '哈': 136, '喜': 137, '歡': 138, '反': 139, '而': 140, '覺': 141, '⋯': 142, '哼': 143, '任': 144, '務': 145, '型': 146, '嗯': 147, '導': 148, '致': 149, '才': 150, '幾': 151, '組': 152, '兩': 153, '正': 154, '保': 155, '險': 156, '自': 157, '己': 158, '關': 159, '係': 160, '藥': 161, '天': 162, '或': 163, '再': 164, '安': 165, '感': 166, '無': 167, '差': 168, '嘿': 169, '擔': 170, '心': 171, '害': 172, '效': 173, '情': 174, '境': 175, '問': 176, '下': 177, '顆': 178, '隔': 179, '十': 180, '四': 181, '小': 182, '到': 183, '甚': 184, '至': 185, '護': 186, '給': 187, '看': 188, '證': 189, '明': 190, '文': 191, '件': 192, '從': 193, '事': 194, '其': 195, '實': 196, '被': 197, '染': 198, '呀': 199, '題': 200, '假': 201, '日': 202, '待': 203, '家': 204, '裡': 205, '玩': 206, '出': 207, '乎': 208, '太': 209, '黑': 210, '板': 211, '樹': 212, '最': 213, '近': 214, '每': 215, '星': 216, '期': 217, '三': 218, '打': 219, '牌': 220, '橋': 221, '錢': 222, '階': 223, '段': 224, '見': 225, '找': 226, '禮': 227, '拜': 228, '班': 229, '點': 230, '過': 231, '且': 232, '又': 233, '清': 234, '床': 235, '麻': 236, '煩': 237, '整': 238, '理': 239, '討': 240, '厭': 241, '原': 242, '部': 243, '於': 244, '解': 245, '聽': 246, '起': 247, '大': 248, '地': 249, '則': 250, '希': 251, '望': 252, '預': 253, '防': 254, '並': 255, '列': 256, '民': 257, '眾': 258, '敘': 259, '述': 260, '何': 261, '者': 262, '誤': 263, '砲': 264, '欸': 265, '開': 266, '始': 267, '指': 268, '類': 269, '般': 270, '男': 271, '人': 272, '發': 273, '生': 274, '同': 275, '象': 276, '工': 277, '作': 278, '累': 279, '像': 280, '先': 281, '尿': 282, '道': 283, '復': 284, '狀': 285, '況': 286, '治': 287, '療': 288, '完': 289, '疾': 290, '病': 291, '別': 292, '等': 293, '間': 294, '概': 295, '將': 296, '5': 297, '4': 298, '第': 299, '焦': 300, '慮': 301, '力': 302, '數': 303, '偶': 304, '爾': 305, '意': 306, '思': 307, '呢': 308, '更': 309, '知': 310, '底': 311, '讓': 312, '選': 313, '決': 314, '素': 315, '…': 316, '變': 317, '成': 318, '種': 319, '放': 320, '帶': 321, '份': 322, '風': 323, '誒': 324, '貌': 325, '紐': 326, '醫': 327, '院': 328, '買': 329, '學': 330, '名': 331, '維': 332, '持': 333, '呃': 334, '些': 335, '機': 336, '率': 337, '高': 338, '提': 339, '接': 340, '改': 341, '頻': 342, '法': 343, '李': 344, '楚': 345, '釐': 346, '抓': 347, '念': 348, '今': 349, '寧': 350, '願': 351, '8': 352, 'k': 353, '暸': 354, '向': 355, '算': 356, '早': 357, '內': 358, '避': 359, '免': 360, 'o': 361, '錯': 362, '?': 363, '觀': 364, '裝': 365, '潢': 366, '～': 367, '熬': 368, '夜': 369, '回': 370, '眠': 371, '睡': 372, '精': 373, '神': 374, '9': 375, '平': 376, '均': 377, '！': 378, '吼': 379, '羨': 380, '慕': 381, '例': 382, '射': 383, '真': 384, '怎': 385, '哥': 386, '叫': 387, '建': 388, '議': 389, '按': 390, '確': 391, '乾': 392, '脆': 393, '住': 394, '興': 395, '奮': 396, '驗': 397, '陪': 398, '額': 399, '釋': 400, '請': 401, '交': 402, '軟': 403, '體': 404, '加': 405, '評': 406, '估': 407, '付': 408, '目': 409, '排': 410, '補': 411, '幫': 412, '雖': 413, '彼': 414, '此': 415, '各': 416, 'Ｈ': 417, 'Ｉ': 418, 'Ｖ': 419, '造': 420, '觸': 421, '普': 422, '遍': 423, '增': 424, '梅': 425, '毒': 426, '淋': 427, 'Ｏ': 428, 'Ｋ': 429, '6': 430, '0': 431, '疫': 432, '降': 433, '難': 434, '把': 435, '連': 436, '7': 437, '蠻': 438, '規': 439, '律': 440, '活': 441, '瘦': 442, '幸': 443, '福': 444, '肥': 445, '耗': 446, '胖': 447, '臉': 448, '常': 449, '花': 450, 'L': 451, 'I': 452, 'N': 453, '順': 454, '眼': 455, '際': 456, '它': 457, '干': 458, '擾': 459, '·': 460, '遇': 461, '越': 462, '兇': 463, '吸': 464, '重': 465, '美': 466, '診': 467, '短': 468, '已': 469, '經': 470, '錄': 471, '取': 472, '稽': 473, '核': 474, '層': 475, '流': 476, '序': 477, '聊': 478, '東': 479, '西': 480, '影': 481, '響': 482, '暫': 483, '離': 484, '縣': 485, '市': 486, '辦': 487, '控': 488, '制': 489, '3': 490, '試': 491, '飯': 492, '息': 493, '稍': 494, '微': 495, '誰': 496, '認': 497, '隱': 498, '藏': 499, '哦': 500, '紀': 501, '長': 502, '捏': 503, '識': 504, '初': 505, '懂': 506, '單': 507, '純': 508, '訊': 509, '覆': 510, '場': 511, '碰': 512, '敲': 513, '周': 514, '介': 515, '紹': 516, '配': 517, '合': 518, '髒': 519, '愉': 520, '悅': 521, '快': 522, '樂': 523, '續': 524, '抗': 525, '拒': 526, '憂': 527, '鬱': 528, '極': 529, '度': 530, '空': 531, '虛': 532, '追': 533, '察': 534, '破': 535, '功': 536, '另': 537, '共': 538, '甘': 539, '式': 540, '遠': 541, '源': 542, '靠': 543, '志': 544, '尋': 545, '科': 546, '諮': 547, '商': 548, '供': 549, '專': 550, '業': 551, '包': 552, '含': 553, '癮': 554, '物': 555, '使': 556, '結': 557, '房': 558, '弟': 559, '樓': 560, '鬼': 561, '片': 562, '故': 563, '趣': 564, '轉': 565, '移': 566, '注': 567, '助': 568, '壓': 569, '症': 570, '互': 571, '照': 572, '刪': 573, '掉': 574, '強': 575, '迫': 576, '設': 577, '需': 578, '協': 579, '管': 580, '師': 581, '晚': 582, '調': 583, '酒': 584, '除': 585, '呵': 586, '乖': 587, '亨': 588, '陽': 589, '曾': 590, '冒': 591, '減': 592, '舒': 593, '服': 594, '抽': 595, '血': 596, '齁': 597, '報': 598, '告': 599, 'e': 600, 'p': 601, '非': 602, '林': 603, '費': 604, '異': 605, '廠': 606, '中': 607, '詢': 608, '途': 609, '徑': 610, '液': 611, '換': 612, '咧': 613, 'H': 614, 'V': 615, '阻': 616, '斷': 617, '代': 618, '表': 619, '存': 620, '網': 621, '路': 622, '訴': 623, 'B': 624, '肝': 625, '檢': 626, '查': 627, '突': 628, '計': 629, '畫': 630, '公': 631, '陳': 632, '左': 633, '右': 634, '堅': 635, '勒': 636, '往': 637, '特': 638, '傳': 639, '絕': 640, '劑': 641, '量': 642, '具': 643, '醒': 644, '低': 645, '研': 646, '究': 647, '唯': 648, '運': 649, '謂': 650, '濃': 651, '殺': 652, '死': 653, '患': 654, '徵': 655, '歸': 656, '案': 657, '省': 658, '容': 659, '易': 660, '斥': 661, '論': 662, '詳': 663, '細': 664, '拍': 665, '偷': 666, '走': 667, '趟': 668, '警': 669, '局': 670, '裸': 671, '露': 672, '陰': 673, '默': 674, '許': 675, '鼓': 676, '勵': 677, '嘗': 678, '收': 679, '集': 680, '受': 681, '允': 682, '習': 683, '慣': 684, '考': 685, '格': 686, '畢': 687, '竟': 688, '櫃': 689, '環': 690, '沉': 691, '恰': 692, '獨': 693, '姊': 694, '百': 695, '雙': 696, '零': 697, '王': 698, '疑': 699, '及': 700, '新': 701, '寬': 702, '圈': 703, '滿': 704, '濫': 705, '贊': 706, '隆': 707, '銜': 708, '邊': 709, '北': 710, '似': 711, '聯': 712, '絡': 713, '衛': 714, '通': 715, '誠': 716, '老': 717, '瞭': 718, '恐': 719, '懼': 720, '承': 721, '疼': 722, '慢': 723, '漸': 724, '未': 725, '閨': 726, '密': 727, '糖': 728, '刮': 729, '鬍': 730, '刀': 731, '侵': 732, '入': 733, '倒': 734, '私': 735, '品': 736, '切': 737, '測': 738, '態': 739, '迷': 740, '叉': 741, 'n': 742, '披': 743, '衣': 744, '菌': 745, '繼': 746, '領': 747, '條': 748, '填': 749, '寫': 750, '恕': 751, '積': 752, '系': 753, '統': 754, '鎖': 755, '進': 756, '簽': 757, '範': 758, '曆': 759, '顏': 760, '色': 761, '妳': 762, '白': 763, '裏': 764, '張': 765, '總': 766, '瓶': 767, '九': 768, '踢': 769, '萬': 770, '塊': 771, '門': 772, '和': 773, '午': 774, '必': 775, '須': 776, '參': 777, '署': 778, '書': 779, '卷': 780, '丟': 781, '截': 782, '圖': 783, '昨': 784, '讀': 785, '資': 786, '半': 787, '痔': 788, '瘡': 789, '唸': 790, '劉': 791, '劃': 792, '手': 793, '剩': 794, '罐': 795, '撐': 796, 'R': 797, '購': 798, '適': 799, '圍': 800, '搶': 801, '頭': 802, '香': 803, '符': 804, '漏': 805, '痾': 806, '嗨': 807, '託': 808, '貞': 809, '節': 810, '坊': 811, '台': 812, '洗': 813, '檳': 814, '榔': 815, '煙': 816, '腿': 817, 'y': 818, '滴': 819, '口': 820, '碑': 821, '著': 822, '危': 823, '努': 824, '根': 825, '據': 826, 'f': 827, 'u': 828, '塑': 829, '膠': 830, '緣': 831, '擦': 832, '槍': 833, '火': 834, '拔': 835, '謝': 836, '敢': 837, '勉': 838, '疙': 839, '瘩': 840, '顧': 841, '哎': 842, '陣': 843, '革': 844, '命': 845, '腎': 846, '器': 847, '官': 848, '泄': 849, '健': 850, '康': 851, '賣': 852, '送': 853, '盒': 854, '珍': 855, '貴': 856, 'c': 857, '值': 858, '停': 859, '呦': 860, '項': 861, '宿': 862, '姐': 863, '餐': 864, '廳': 865, '渡': 866, '餓': 867, '搬': 868, '棟': 869, '便': 870, '店': 871, '衰': 872, '灌': 873, '硬': 874, '亂': 875, '譬': 876, '號': 877, '留': 878, '餒': 879, '華': 880, '惰': 881, '奇': 882, '怪': 883, '替': 884, '役': 885, '吵': 886, '架': 887, '職': 888, '義': 889, '推': 890, '翻': 891, '衝': 892, '夏': 893, '令': 894, '營': 895, '充': 896, '印': 897, '冰': 898, 'Ｃ': 899, 'Ｅ': 900, 'Ｇ': 901, '辨': 902, '盡': 903, 'Ｒ': 904, 'Ｕ': 905, 'Ｓ': 906, 'Ｐ': 907, '顯': 908, '菜': 909, '示': 910, '針': 911, '穩': 912, '超': 913, '噁': 914, '嚴': 915, '瞬': 916, '依': 917, '吐': 918, '拉': 919, '麗': 920, '邂': 921, '逅': 922, '悟': 923, '週': 924, '末': 925, '退': 926, '背': 927, '蛛': 928, '絲': 929, '馬': 930, '跡': 931, '蒐': 932, 'F': 933, 'U': 934, 'C': 935, 'T': 936, '摸': 937, '肉': 938, 'A': 939, 'Y': 940, 'W': 941, '瘋': 942, '狂': 943, '掛': 944, '笑': 945, '措': 946, '施': 947, '展': 948, '澄': 949, '昇': 950, '標': 951, '球': 952, '遭': 953, '氣': 954, '傾': 955, '賭': 956, '爽': 957, '輕': 958, '嘔': 959, '女': 960, '愛': 961, '婚': 962, '帥': 963, '嫁': 964, '賞': 965, '暴': 966, '檯': 967, '繳': 968, '咦': 969, 'Ｂ': 970, '音': 971, '波': 972, 'Ｘ': 973, '光': 974, '室': 975, '弄': 976, '毛': 977, '胃': 978, '腹': 979, '忍': 980, '暈': 981, 'Ｌ': 982, 'Ｎ': 983, '卡': 984, '址': 985, 'w': 986, '.': 987, 'g': 988, 'v': 989, '備': 990, 'Ｍ': 991, 'Ａ': 992, '步': 993, '窗': 994, '輸': 995, '９': 996, '苗': 997, '複': 998, '糾': 999, '折': 1000, '磨': 1001, '站': 1002, '英': 1003, '字': 1004, 'M': 1005, '處': 1006, '箋': 1007, '款': 1008, '帳': 1009, '申': 1010, '否': 1011, '蹤': 1012, '紙': 1013, '喲': 1014, '泰': 1015, '國': 1016, '鑑': 1017, '昏': 1018, '利': 1019, 'S': 1020, '延': 1021, '紅': 1022, 'm': 1023, 'a': 1024, 'b': 1025, '熟': 1026, '怖': 1027, '客': 1028, '邏': 1029, '輯': 1030, '悉': 1031, '秒': 1032, '麽': 1033, '慶': 1034, '祝': 1035, '置': 1036, '障': 1037, '舉': 1038, '烈': 1039, '儘': 1040, '秋': 1041, '臨': 1042, '即': 1043, 's': 1044, '泌': 1045, '摩': 1046, '嘴': 1047, '巴': 1048, '傷': 1049, '爆': 1050, '位': 1051, '皮': 1052, '膜': 1053, '喝': 1054, '夾': 1055, '桌': 1056, '筷': 1057, '姓': 1058, '惶': 1059, '脖': 1060, '痛': 1061, '慾': 1062, '副': 1063, '飛': 1064, '杯': 1065, '登': 1066, '宴': 1067, '束': 1068, '銷': 1069, '答': 1070, '勾': 1071, '籤': 1072, '罩': 1073, '終': 1074, '廝': 1075, '守': 1076, '株': 1077, '舊': 1078, '電': 1079, '蓮': 1080, '雄': 1081, '歷': 1082, '陸': 1083, '聲': 1084, '克': 1085, '頂': 1086, '礙': 1087, '訪': 1088, '戶': 1089, '穿': 1090, '跑': 1091, '司': 1092, '鍋': 1093, '傍': 1094, '哨': 1095, '消': 1096, '爲': 1097, '説': 1098, '騷': 1099, '貓': 1100, '跳': 1101, '后': 1102, '宜': 1103, '趴': 1104, '落': 1105, '肚': 1106, '漲': 1107, '價': 1108, '優': 1109, '惠': 1110, 'l': 1111, 'i': 1112, '註': 1113, '聼': 1114, '葩': 1115, '閡': 1116, '瘙': 1117, '癢': 1118, '熊': 1119, '隨': 1120, '哇': 1121, 'h': 1122, '饋': 1123, '飽': 1124, '内': 1125, '遊': 1126, '戲': 1127, '瞌': 1128, '峰': 1129, '斤': 1130, '懷': 1131, '廟': 1132, '金': 1133, '融': 1134, '唉': 1135, '諱': 1136, '銀': 1137, '員': 1138, '桃': 1139, '園': 1140, '旅': 1141, '氛': 1142, '悔': 1143, '滋': 1144, '繁': 1145, '權': 1146, '政': 1147, '府': 1148, '輩': 1149, '速': 1150, '捲': 1151, '脹': 1152, '形': 1153, '緊': 1154, '棒': 1155, '嘉': 1156, '距': 1157, '封': 1158, '閉': 1159, '屬': 1160, '坦': 1161, '呂': 1162, '敏': 1163, '括': 1164, '壞': 1165, '兼': 1166, '爺': 1167, '奶': 1168, '佛': 1169, '課': 1170, '篇': 1171, '寡': 1172, '爭': 1173, '智': 1174, '慧': 1175, '莫': 1176, '嚇': 1177, '雜': 1178, '散': 1179, '墊': 1180, '脫': 1181, '群': 1182, '永': 1183, '戀': 1184, '尺': 1185, '績': 1186, '訂': 1187, '妝': 1188, '萊': 1189, '雅': 1190, '蘭': 1191, '蔻': 1192, '急': 1193, '浮': 1194, '躁': 1195, '簡': 1196, '產': 1197, '監': 1198, '視': 1199, '膩': 1200, '妙': 1201, '唷': 1202, '=': 1203, '督': 1204, '偏': 1205, '溫': 1206, '暖': 1207, '抱': 1208, '元': 1209, '逃': 1210, '準': 1211, '炎': 1212, '礎': 1213, '坐': 1214, '冷': 1215, '籃': 1216, '暑': 1217, '隊': 1218, '濟': 1219, '倍': 1220, '撕': 1221, '裂': 1222, '黏': 1223, '孩': 1224, '炸': 1225, '山': 1226, '海': 1227, '味': 1228, '魂': 1229, '詞': 1230, '憑': 1231, '負': 1232, '料': 1233, '腔': 1234, '唾': 1235, '篩': 1236, '逆': 1237, '質': 1238, '區': 1239, '困': 1240, '與': 1241, '教': 1242, '灣': 1243, '歐': 1244, '鬆': 1245, '娛': 1246, '某': 1247, '撫': 1248, '聞': 1249, '鍵': 1250, '孕': 1251, 'd': 1252, '彰': 1253, '化': 1254, '止': 1255, '售': 1256, '「': 1257, '寄': 1258, '」': 1259, '她': 1260, '製': 1261, '角': 1262, '喘': 1263, '哩': 1264, '緩': 1265, '休': 1266, '蕩': 1267, '婦': 1268, '浪': 1269, 'G': 1270, 'D': 1271, '首': 1272, '搞': 1273, '混': 1274, '技': 1275, '錶': 1276, '攸': 1277, '匿': 1278, '透': 1279, '衡': 1280, '善': 1281, '擋': 1282, '趕': 1283, '掃': 1284, '尷': 1285, '尬': 1286, '厚': 1287, '爛': 1288, '杜': 1289, '蕾': 1290, '斯': 1291, '袋': 1292, '岡': 1293, '薄': 1294, '油': 1295, '誇': 1296, '傻': 1297, '既': 1298, '弱': 1299, '刺': 1300, '激': 1301, '癌': 1302, '談': 1303, '扣': 1304, '箱': 1305, '晉': 1306, '升': 1307, '線': 1308, '裕': 1309, '蓋': 1310, '章': 1311, '４': 1312, '１': 1313, '８': 1314, '６': 1315, '鬧': 1316, '鐘': 1317, '欲': 1318, '蝨': 1319, '覽': 1320, '臺': 1321, '卵': 1322, '孵': 1323, '廁': 1324, '由': 1325, '芽': 1326, '燒': 1327, '凍': 1328, '塗': 1329, '抹': 1330, '秤': 1331, '殘': 1332, '癒': 1333, '斬': 1334, '草': 1335, '膿': 1336, '飲': 1337, '食': 1338, '攻': 1339, '擊': 1340, '耳': 1341, '虎': 1342, '吳': 1343, '千': 1344, 'Q': 1345, '２': 1346, '邦': 1347, '桶': 1348, '聚': 1349, '招': 1350, '呼': 1351, '陌': 1352, '尤': 1353, '粗': 1354, 'z': 1355, '哭': 1356, '言': 1357, '凝': 1358, '潤': 1359, '滑': 1360, '凶': 1361, '撩': 1362, '懶': 1363, '搭': 1364, '居': 1365, '丸': 1366, '燈': 1367, '模': 1368, '膚': 1369, '痘': 1370, '驚': 1371, '縮': 1372, '足': 1373, '劇': 1374, '浩': 1375, '碌': 1376, '央': 1377, '跨': 1378, '黃': 1379, '貨': 1380, '拖': 1381, '秀': 1382, '德': 1383, '瑞': 1384, '典': 1385, '販': 1386, '附': 1387, '頓': 1388, '緒': 1389, '靜': 1390, '旁': 1391, '鈕': 1392, '衍': 1393, '逛': 1394, '街': 1395, '親': 1396, '鮮': 1397, '碼': 1398, '櫻': 1399, '溝': 1400, '稠': 1401, '水': 1402, '潔': 1403, '校': 1404, '失': 1405, '褲': 1406, '睛': 1407, 'Ｆ': 1408, '０': 1409, '３': 1410, '粉': 1411, '綠': 1412, '厲': 1413, '燕': 1414, '尚': 1415, '酷': 1416, '輪': 1417, '綜': 1418, 'j': 1419, '腺': 1420, '肛': 1421, '骨': 1422, '挑': 1423, '良': 1424, '辰': 1425, '吉': 1426, '曬': 1427, '屏': 1428, '琉': 1429, 't': 1430, '涼': 1431, '掰': 1432, '雞': 1433, '挺': 1434, '歲': 1435, '蔡': 1436, '立': 1437, '翹': 1438, '臀': 1439, '熱': 1440, '悶': 1441, '猶': 1442, '豫': 1443, '搗': 1444, '蒜': 1445, '壤': 1446, '韓': 1447, '擠': 1448, '庚': 1449, '催': 1450, '批': 1451, '支': 1452, '歉': 1453, '投': 1454, '館': 1455, '腦': 1456, '救': 1457, '齊': 1458, '呆': 1459, '撥': 1460, '亡': 1461, '矛': 1462, '盾': 1463, '矜': 1464, '諸': 1465, '藍': 1466, '限': 1467, '矩': 1468, '溯': 1469, '咳': 1470, '嗽': 1471, '蹭': 1472, '削': 1473, '芒': 1474, '沾': 1475, '盤': 1476, '肺': 1477, '痰': 1478, '割': 1479, '沖': 1480, 'ｆ': 1481, 'ｅ': 1482, 'ｌ': 1483, '咖': 1484, '啡': 1485, '戒': 1486, '乘': 1487, '級': 1488, '唔': 1489, '阪': 1490, '并': 1491, '壁': 1492, '抵': 1493, '爸': 1494, '媽': 1495, '菸': 1496, '甲': 1497, '稱': 1498, '晦': 1499, '潮': 1500, '術': 1501, '語': 1502, '苦': 1503, '辛': 1504, '遺': 1505, '臟': 1506, '腸': 1507, '拼': 1508, '拚': 1509, '喬': 1510, '糟': 1511, '糕': 1512, '猜': 1513, '隻': 1514, '缺': 1515, '檻': 1516, '閃': 1517, '拋': 1518, '棄': 1519, '掌': 1520, '握': 1521, '划': 1522, '偽': 1523, '世': 1524, '界': 1525, '土': 1526, '責': 1527, '景': 1528, '刷': 1529, '季': 1530, '享': 1531, '憶': 1532, '抑': 1533, '朝': 1534, '趁': 1535, '肯': 1536, '粒': 1537, '尾': 1538, '勇': 1539, '貼': 1540, '雨': 1541, '肌': 1542, '酸': 1543, '酐': 1544, '練': 1545, '蛋': 1546, '爬': 1547, 'ㄟ': 1548, '捐': 1549, '士': 1550, '胞': 1551, '曲': 1552, '淨': 1553, '窩': 1554, '南': 1555, '涉': 1556, '喂': 1557, '龍': 1558, '夫': 1559, '丈': 1560, '編': 1561, '母': 1562, '尼': 1563, '萎': 1564, '盛': 1565, '併': 1566, '廣': 1567, '擺': 1568, '堆': 1569, '挪': 1570, '吞': 1571, '疏': 1572, '端': 1573, '車': 1574, '禍': 1575, '腳': 1576, '拐': 1577, '杖': 1578, '跌': 1579, '養': 1580, '鈣': 1581, '疊': 1582, '譚': 1583, '京': 1584, '宇': 1585, '修': 1586, '佈': 1587, '啓': 1588, '嵗': 1589, '孝': 1590, '弊': 1591, '殖': 1592, '彈': 1593, '嘞': 1594, '涵': 1595, '趨': 1596, '判': 1597, '契': 1598, '兒': 1599, '廢': 1600, '禦': 1601, '野': 1602, '柳': 1603, '弧': 1604, '映': 1605, '沫': 1606, '仍': 1607, '煉': 1608, '猛': 1609, '濕': 1610, '慌': 1611, '氏': 1612, '載': 1613, '欣': 1614, '拆': 1615, '茶': 1616, '檔': 1617, '操': 1618, '刻': 1619, '筆': 1620, '准': 1621, '頗': 1622, '箝': 1623, '豆': 1624, '貸': 1625, '債': 1626, '愧': 1627, '疚': 1628, '勢': 1629, '逼': 1630, '借': 1631, '憐': 1632, '賺': 1633, '攤': 1634, '牽': 1635, '予': 1636, '郵': 1637, '榮': 1638, '戰': 1639, '藉': 1640, '吻': 1641, '玄': 1642, '疹': 1643, '飆': 1644, '忽': 1645, '循': 1646, '癖': 1647, '嬤': 1648, '咯': 1649, '青': 1650, '春': 1651, '獲': 1652, '厰': 1653, '木': 1654, '葉': 1655, '村': 1656, '返': 1657, '曝': 1658, '暗': 1659, '曡': 1660, '恢': 1661, '%': 1662, '﹑': 1663, '渣': 1664, '妖': 1665, '魔': 1666, '橘': 1667, '邀': 1668, '飄': 1669, '創': 1670, '嘍': 1671, '慘': 1672, '澳': 1673, '洲': 1674, '座': 1675, '瞧': 1676, '龜': 1677, '鏢': 1678, '獎': 1679, '億': 1680, '吹': 1681, '疲': 1682, '乏': 1683, '躺': 1684, '游': 1685, '泳': 1686, '堤': 1687, '樞': 1688, '達': 1689, '幻': 1690, '腕': 1691, '扭': 1692, '筋': 1693, '逝': 1694, '．': 1695, '摟': 1696, '勁': 1697, '挨': 1698, '屁': 1699, '股': 1700, '笨': 1701, '夕': 1702, '疣': 1703, '凸': 1704, '圓': 1705, '蟲': 1706, '咬': 1707, '嘶': 1708, '幣': 1709, '策': 1710, '潛': 1711, '旺': 1712, '鼻': 1713, '-': 1714, '竹': 1715, '煞': 1716, '盯': 1717, '促': 1718, '曼': 1719, '傑': 1720, '挫': 1721, '囊': 1722, '枝': 1723, '紫': 1724, '堵': 1725, '薦': 1726, '寮': 1727, '句': 1728, '歪': 1729, '踩': 1730, '雷': 1731, '/': 1732, '狗': 1733, '若': 1734, '橫': 1735, '幅': 1736, '繫': 1737, '溼': 1738, '庫': 1739, '插': 1740, '競': 1741, '蕭': 1742, '禁': 1743, '騰': 1744, '略': 1745, '孳': 1746, '凱': 1747, '宣': 1748, '噢': 1749, '撞': 1750, '釣': 1751, '谷': 1752, '娘': 1753, '潑': 1754, '糧': 1755, 'X': 1756, '稀': 1757, '卻': 1758, '田': 1759, '匆': 1760, '猴': 1761, '褪': 1762, '斜': 1763, '祖': 1764, '宗': 1765, '魚': 1766, '撿': 1767, '滅': 1768, '污': 1769, '族': 1770, '嘖': 1771, '醉': 1772, '蚊': 1773, '叮': 1774, '頁': 1775, '粹': 1776, '威': 1777, '鋼': 1778, '探': 1779, '瘀': 1780, '伸': 1781, '淆': 1782, '閒': 1783, '惡': 1784, '童': 1785, '逐': 1786, '宮': 1787, '頸': 1788, '巧': 1789, '訓': 1790, '敗': 1791, '搜': 1792, '鋌': 1793, '鏈': 1794, '犯': 1795, '淡': 1796, '鐵': 1797, '貧': 1798, '攝': 1799, '葡': 1800, '萄': 1801, '深': 1802, '豐': 1803, '富': 1804, '牛': 1805, '描': 1806, '亮': 1807, '錠': 1808, '益': 1809, '酪': 1810, '乳': 1811, '伯': 1812, '瓣': 1813, '腫': 1814, '引': 1815, '鏡': 1816, '洞': 1817, '狹': 1818, '窄': 1819, '燙': 1820, '惱': 1821, '餘': 1822, '疝': 1823, '膽': 1824, '磷': 1825, '堪': 1826, '梯': 1827, '腰': 1828, '痠': 1829, '氧': 1830, '氫': 1831, '膏': 1832, '茫': 1833, '頑': 1834, '簿': 1835, '湄': 1836, '姨': 1837, '牙': 1838, '齒': 1839, '肩': 1840, '膀': 1841, '廖': 1842, '戚': 1843, '髮': 1844, '嗅': 1845, '喪': 1846, '涕': 1847, '擤': 1848, '噴': 1849, '竇': 1850, '畏': 1851, '寒': 1852, '鋅': 1853, '怠': 1854, '倦': 1855, '育': 1856, '畜': 1857, '牧': 1858, '瘟': 1859, '餃': 1860, '析': 1861, '泡': 1862, '樟': 1863, '芝': 1864, '巫': 1865, '孫': 1866, '僵': 1867, '楊': 1868, '雲': 1869, '肢': 1870, '綁': 1871, '蝦': 1872, '蜂': 1873, '織': 1874, '浸': 1875, '瀉': 1876, '‧': 1877, '磁': 1878, '振': 1879, '碘': 1880, '繃': 1881, '膝': 1882, '伏': 1883, '姿': 1884, '脂': 1885, '烘': 1886, '焙': 1887, '麵': 1888, '餅': 1889, '荷': 1890, '盜': 1891, '汗': 1892, '醇': 1893, '社': 1894, '垃': 1895, '圾': 1896, '殊': 1897, '躍': 1898, '酵': 1899, '憊': 1900, '唄': 1901, '團': 1902, '矽': 1903, '晶': 1904, '幼': 1905, '稚': 1906, '勞': 1907, '喉': 1908, '嚨': 1909, '脾': 1910, '奈': 1911, '米': 1912, '濾': 1913, '肪': 1914, '償': 1915, 'Ｔ': 1916, '石': 1917, '胎': 1918, '疸': 1919, '糞': 1920, '５': 1921, '纖': 1922, '耐': 1923, '江': 1924, '脈': 1925, '搏': 1926, '噎': 1927, '舌': 1928, '棉': 1929, '灰': 1930, '肋': 1931, '橡': 1932, '俊': 1933, '賀': 1934, '蒙': 1935, '甜': 1936, '煮': 1937, '儲': 1938, '碗': 1939, '炒': 1940, '蘋': 1941, '胰': 1942, '島': 1943, '盟': 1944, '巨': 1945, '扎': 1946, '濺': 1947, '洛': 1948, '凌': 1949, '晨': 1950, '潰': 1951, '瘍': 1952, '騎': 1953, '踏': 1954, '納': 1955, '黴': 1956, '涂': 1957, '宵': 1958, '寢': 1959, '着': 1960, '賓': 1961, '槌': 1962, '側': 1963, '弛': 1964, '眩': 1965, '糊': 1966, '斟': 1967, '酌': 1968, '鄭': 1969, '釘': 1970, '廚': 1971, '冬': 1972, '武': 1973, '漢': 1974, '瘤': 1975, '沿': 1976, '齦': 1977, '輻': 1978, '躲': 1979, '玻': 1980, '璃': 1981, '娃': 1982, '侏': 1983, '儒': 1984, '竄': 1985, '胸': 1986, '疔': 1987, '罵': 1988, '鹽': 1989, '衆': 1990, '礦': 1991, '麥': 1992, '扁': 1993, '井': 1994, '壽': 1995, '布': 1996, '魯': 1997, '碎': 1998, '夢': 1999, '恍': 2000, '惚': 2001, '剝': 2002, '擴': 2003, '髓': 2004, '帕': 2005, '森': 2006, '朵': 2007, '庭': 2008, '羞': 2009, '恥': 2010, '椎': 2011, '揍': 2012, '杉': 2013, '磯': 2014, '鄰': 2015, '莊': 2016, '溪': 2017, '豪': 2018, '鄉': 2019, '瞞': 2020, '嬸': 2021, 'Ｄ': 2022, '沙': 2023, '抖': 2024, '亢': 2025, '徐': 2026, '蛀': 2027, '攪': 2028, '紛': 2029, '瀑': 2030, '池': 2031, '邵': 2032, '翰': 2033, '執': 2034, '授': 2035, '縱': 2036, '叔': 2037, '恭': 2038, '您': 2039, '盲': 2040, '狼': 2041, '斑': 2042, '嫌': 2043, '巡': 2044, '審': 2045, '湯': 2046, '澱': 2047, '燜': 2048, '蔬': 2049, '姪': 2050, '蕁': 2051, '姑': 2052, '癬': 2053, '咪': 2054, '亞': 2055, '酯': 2056, '唱': 2057, '歌': 2058, '勝': 2059, '齡': 2060, '尖': 2061, '鎮': 2062, '脊': 2063, '潦': 2064, '史': 2065, '拷': 2066, '貝': 2067, '摘': 2068, '蝕': 2069, '肘': 2070, '縫': 2071, '撇': 2072, '唇': 2073, '博': 2074, '胺': 2075, '慈': 2076, '囑': 2077, '漱': 2078, '撮': 2079, '欽': 2080, '殼': 2081, '鍾': 2082, '茄': 2083, '托': 2084, '抿': 2085, '蜜': 2086, '螃': 2087, '蟹': 2088, '鞋': 2089, '仙': 2090, '聖': 2091, '誕': 2092, '派': 2093, '吩': 2094, '咐': 2095, '昂': 2096, '欄': 2097, '屋': 2098, '塵': 2099, '演': 2100, 'Ｙ': 2101, '植': 2102, '渾': 2103, '噩': 2104, '搥': 2105, '欠': 2106, '絞': 2107, '癱': 2108, '皰': 2109, '彩': 2110, '搓': 2111, '摳': 2112, '痱': 2113, '辣': 2114, '醬': 2115, '歹': 2116, '妹': 2117, '媳': 2118, '艾': 2119, '汎': 2120, '版': 2121, '曹': 2122, '培': 2123, '桿': 2124, '鼠': 2125, '蹊': 2126, '蠢': 2127, '川': 2128, '龔': 2129, '偉': 2130, '哲': 2131, '儀': 2132, '構': 2133, '椅': 2134, '摔': 2135, '洪': 2136, '澤': 2137, '弓': 2138, '漿': 2139, '滷': 2140, '輔': 2141, '鞏': 2142, '幽': 2143, '耍': 2144, '矮': 2145, '鳳': 2146, '梨': 2147, '勤': 2148, '軌': 2149, '痊': 2150, '嗜': 2151, '嚏': 2152, '淚': 2153, '幕': 2154, '闆': 2155, '燥': 2156, '皂': 2157, '癲': 2158, '癇': 2159, '瓜': 2160, '醣': 2161, '挖': 2162, '灶': 2163, '鳥': 2164, '嗝': 2165, '霖': 2166, '霧': 2167, '螢': 2168, '塞': 2169, '暢': 2170, '驅': 2171, '竭': 2172, '淤': 2173, '嬰': 2174, '吊': 2175, '昧': 2176, '檸': 2177, '檬': 2178, '薑': 2179, '汁': 2180, '醋': 2181, '秘': 2182, '譜': 2183, '瓢': 2184, '盂': 2185, '郎': 2186, '寶': 2187, '祕': 2188, '佐': 2189, '冊': 2190, '燃': 2191, '稅': 2192, '喊': 2193, '彎': 2194, '萱': 2195, '毫': 2196, '胱': 2197, '７': 2198, 'ｓ': 2199, 'ｕ': 2200, 'ｂ': 2201, 'ｔ': 2202, 'ａ': 2203, 'ｉ': 2204, 'ｏ': 2205, 'ｎ': 2206, '悸': 2207, '兵': 2208, '汽': 2209, '罰': 2210, '滾': 2211, '澡': 2212, '朗': 2213, '沐': 2214, '浴': 2215, '梢': 2216, '佔': 2217, '農': 2218, '珠': 2219, '丘': 2220, '痂': 2221, '箭': 2222, '掀': 2223, '痕': 2224, '蠕': 2225, '韋': 2226, '鋁': 2227, '鎂': 2228, '牠': 2229, '筍': 2230, '豬': 2231, '忌': 2232, '糙': 2233, 'ｋ': 2234, '寵': 2235, '腴': 2236, '抬': 2237, '摺': 2238, '橢': 2239, '淺': 2240, '滲': 2241, '鹹': 2242, '泉': 2243, '踴': 2244, '楷': 2245, '柔': 2246, '輝': 2247, '糰': 2248, '揪': 2249, '恙': 2250, '鈉': 2251, '鉀': 2252, '獻': 2253, '里': 2254, '柏': 2255, '霉': 2256, '敷': 2257, '採': 2258, '鉤': 2259, '螺': 2260, '旋': 2261, '蚤': 2262, '皇': 2263, '佳': 2264, '惜': 2265, '贅': 2266, '薪': 2267, '靈': 2268, '柺': 2269, '憩': 2270, '盆': 2271, 'ｒ': 2272, 'ｃ': 2273, 'ｍ': 2274, 'ｐ': 2275, 'ｗ': 2276, 'ｈ': 2277, '\\u3000': 2278, '屎': 2279, '棋': 2280, '擬': 2281, '倫': 2282, '扶': 2283, '漂': 2284, '毯': 2285, '鳴': 2286, '戳': 2287, '奎': 2288, '膨': 2289, '髖': 2290, '湘': 2291, '栓': 2292, '邁': 2293, '丁': 2294, '彙': 2295, '鋒': 2296, '搔': 2297, '軍': 2298, '甩': 2299, '娜': 2300, '索': 2301, '鴻': 2302, '芳': 2303, '播': 2304, '傅': 2305, '讚': 2306, '呐': 2307, '徹': 2308, '咿': 2309, '材': 2310, '壯': 2311, '碩': 2312, '墅': 2313, '噪': 2314, '錘': 2315, '誘': 2316, '趾': 2317, '剪': 2318, '揮': 2319, '愈': 2320, '凡': 2321, '忠': 2322, '嚥': 2323, '鑿': 2324, '迴': 2325, '粥': 2326, '蹋': 2327, '耀': 2328, '仁': 2329, '枚': 2330, '援': 2331, '墾': 2332, '貢': 2333, '湖': 2334, '仔': 2335, '鋪': 2336, '押': 2337, '船': 2338, '颱': 2339, '繞': 2340, '剖': 2341, '罕': 2342, '腱': 2343, '鹼': 2344, '添': 2345, '濁': 2346, '徘': 2347, '徊': 2348, '鍛': 2349, '鍊': 2350, '絨': 2351, '穀': 2352, '饅': 2353, '咕': 2354, '嚕': 2355, '抄': 2356, '羅': 2357, '臭': 2358, '塔': 2359, '蹦': 2360, '疤': 2361, '凹': 2362, '槽': 2363, '綿': 2364, '貪': 2365, '炭': 2366, '腐': 2367, '沈': 2368, '垂': 2369, '枕': 2370, '席': 2371, '吱': 2372, '遮': 2373, '遲': 2374, '鈍': 2375, '唆': 2376, '恆': 2377, '妨': 2378, '渴': 2379, '烏': 2380, '洱': 2381, '啞': 2382, '醃': 2383, '漬': 2384, '溶': 2385, '委': 2386, '婉': 2387, '勸': 2388, '賠': 2389, '駕': 2390, '域': 2391}\n"
          ],
          "name": "stdout"
        }
      ]
    },
    {
      "cell_type": "code",
      "metadata": {
        "colab": {
          "base_uri": "https://localhost:8080/"
        },
        "id": "NvOFGOMOu0Xq",
        "outputId": "dbcf9962-b068-4659-d246-e0268d3f6f2c"
      },
      "source": [
        "# Create vocab_list and embeddings of classification dataset and cut them into smaller words\n",
        "vocabs = ['[PAD]']\n",
        "\n",
        "for times,text in enumerate(vocabs_dict):\n",
        "  if times <= 0 :# Remove vocab.json in '['P'A'D']'\n",
        "    continue\n",
        "  vocabs = List_Append(vocabs, text)\n",
        "\n",
        "print('vocabs共 %d 筆資料' % ( len(vocabs) ) )\n",
        "print(vocabs)"
      ],
      "execution_count": null,
      "outputs": [
        {
          "output_type": "stream",
          "text": [
            "vocabs共 2392 筆資料\n",
            "['[PAD]', '：', '這', '個', '月', '還', '好', '嗎', '？', '蛤', '，', '可', '以', '有', '性', '行', '為', '所', '是', '跟', '固', '定', '伴', '侶', '對', '喔', '阿', '你', '囉', '本', '來', '就', '只', '比', '較', '忙', '很', '少', '約', '一', '直', '都', '那', '恩', '诶', '不', '後', '用', '他', '的', '然', '扮', '相', '沒', '了', '什', '麼', '身', '分', '吃', 'P', 'r', 'E', '我', '朋', '友', '們', '做', '時', '候', '現', '在', '1', '2', '之', '前', '夠', '話', '會', '拿', '剛', '因', '也', 'O', 'K', '要', '說', '戴', '套', '二', '擇', '樣', '子', '啊', '能', '怕', '如', '果', '方', '炮', '講', '外', '面', '幹', '嘛', '信', '多', '久', '五', '、', '六', '年', '吧', '啦', '七', '八', '次', '曉', '得', '想', '耶', '主', '動', '去', '但', '基', '上', '忘', '記', '全', '程', '應', '該', '求', '當', '哪', '哈', '喜', '歡', '反', '而', '覺', '⋯', '哼', '任', '務', '型', '嗯', '導', '致', '才', '幾', '組', '兩', '正', '保', '險', '自', '己', '關', '係', '藥', '天', '或', '再', '安', '感', '無', '差', '嘿', '擔', '心', '害', '效', '情', '境', '問', '下', '顆', '隔', '十', '四', '小', '到', '甚', '至', '護', '給', '看', '證', '明', '文', '件', '從', '事', '其', '實', '被', '染', '呀', '題', '假', '日', '待', '家', '裡', '玩', '出', '乎', '太', '黑', '板', '樹', '最', '近', '每', '星', '期', '三', '打', '牌', '橋', '錢', '階', '段', '見', '找', '禮', '拜', '班', '點', '過', '且', '又', '清', '床', '麻', '煩', '整', '理', '討', '厭', '原', '部', '於', '解', '聽', '起', '大', '地', '則', '希', '望', '預', '防', '並', '列', '民', '眾', '敘', '述', '何', '者', '誤', '砲', '欸', '開', '始', '指', '類', '般', '男', '人', '發', '生', '同', '象', '工', '作', '累', '像', '先', '尿', '道', '復', '狀', '況', '治', '療', '完', '疾', '病', '別', '等', '間', '概', '將', '5', '4', '第', '焦', '慮', '力', '數', '偶', '爾', '意', '思', '呢', '更', '知', '底', '讓', '選', '決', '素', '…', '變', '成', '種', '放', '帶', '份', '風', '誒', '貌', '紐', '醫', '院', '買', '學', '名', '維', '持', '呃', '些', '機', '率', '高', '提', '接', '改', '頻', '法', '李', '楚', '釐', '抓', '念', '今', '寧', '願', '8', 'k', '暸', '向', '算', '早', '內', '避', '免', 'o', '錯', '?', '觀', '裝', '潢', '～', '熬', '夜', '回', '眠', '睡', '精', '神', '9', '平', '均', '！', '吼', '羨', '慕', '例', '射', '真', '怎', '哥', '叫', '建', '議', '按', '確', '乾', '脆', '住', '興', '奮', '驗', '陪', '額', '釋', '請', '交', '軟', '體', '加', '評', '估', '付', '目', '排', '補', '幫', '雖', '彼', '此', '各', 'Ｈ', 'Ｉ', 'Ｖ', '造', '觸', '普', '遍', '增', '梅', '毒', '淋', 'Ｏ', 'Ｋ', '6', '0', '疫', '降', '難', '把', '連', '7', '蠻', '規', '律', '活', '瘦', '幸', '福', '肥', '耗', '胖', '臉', '常', '花', 'L', 'I', 'N', '順', '眼', '際', '它', '干', '擾', '·', '遇', '越', '兇', '吸', '重', '美', '診', '短', '已', '經', '錄', '取', '稽', '核', '層', '流', '序', '聊', '東', '西', '影', '響', '暫', '離', '縣', '市', '辦', '控', '制', '3', '試', '飯', '息', '稍', '微', '誰', '認', '隱', '藏', '哦', '紀', '長', '捏', '識', '初', '懂', '單', '純', '訊', '覆', '場', '碰', '敲', '周', '介', '紹', '配', '合', '髒', '愉', '悅', '快', '樂', '續', '抗', '拒', '憂', '鬱', '極', '度', '空', '虛', '追', '察', '破', '功', '另', '共', '甘', '式', '遠', '源', '靠', '志', '尋', '科', '諮', '商', '供', '專', '業', '包', '含', '癮', '物', '使', '結', '房', '弟', '樓', '鬼', '片', '故', '趣', '轉', '移', '注', '助', '壓', '症', '互', '照', '刪', '掉', '強', '迫', '設', '需', '協', '管', '師', '晚', '調', '酒', '除', '呵', '乖', '亨', '陽', '曾', '冒', '減', '舒', '服', '抽', '血', '齁', '報', '告', 'e', 'p', '非', '林', '費', '異', '廠', '中', '詢', '途', '徑', '液', '換', '咧', 'H', 'V', '阻', '斷', '代', '表', '存', '網', '路', '訴', 'B', '肝', '檢', '查', '突', '計', '畫', '公', '陳', '左', '右', '堅', '勒', '往', '特', '傳', '絕', '劑', '量', '具', '醒', '低', '研', '究', '唯', '運', '謂', '濃', '殺', '死', '患', '徵', '歸', '案', '省', '容', '易', '斥', '論', '詳', '細', '拍', '偷', '走', '趟', '警', '局', '裸', '露', '陰', '默', '許', '鼓', '勵', '嘗', '收', '集', '受', '允', '習', '慣', '考', '格', '畢', '竟', '櫃', '環', '沉', '恰', '獨', '姊', '百', '雙', '零', '王', '疑', '及', '新', '寬', '圈', '滿', '濫', '贊', '隆', '銜', '邊', '北', '似', '聯', '絡', '衛', '通', '誠', '老', '瞭', '恐', '懼', '承', '疼', '慢', '漸', '未', '閨', '密', '糖', '刮', '鬍', '刀', '侵', '入', '倒', '私', '品', '切', '測', '態', '迷', '叉', 'n', '披', '衣', '菌', '繼', '領', '條', '填', '寫', '恕', '積', '系', '統', '鎖', '進', '簽', '範', '曆', '顏', '色', '妳', '白', '裏', '張', '總', '瓶', '九', '踢', '萬', '塊', '門', '和', '午', '必', '須', '參', '署', '書', '卷', '丟', '截', '圖', '昨', '讀', '資', '半', '痔', '瘡', '唸', '劉', '劃', '手', '剩', '罐', '撐', 'R', '購', '適', '圍', '搶', '頭', '香', '符', '漏', '痾', '嗨', '託', '貞', '節', '坊', '台', '洗', '檳', '榔', '煙', '腿', 'y', '滴', '口', '碑', '著', '危', '努', '根', '據', 'f', 'u', '塑', '膠', '緣', '擦', '槍', '火', '拔', '謝', '敢', '勉', '疙', '瘩', '顧', '哎', '陣', '革', '命', '腎', '器', '官', '泄', '健', '康', '賣', '送', '盒', '珍', '貴', 'c', '值', '停', '呦', '項', '宿', '姐', '餐', '廳', '渡', '餓', '搬', '棟', '便', '店', '衰', '灌', '硬', '亂', '譬', '號', '留', '餒', '華', '惰', '奇', '怪', '替', '役', '吵', '架', '職', '義', '推', '翻', '衝', '夏', '令', '營', '充', '印', '冰', 'Ｃ', 'Ｅ', 'Ｇ', '辨', '盡', 'Ｒ', 'Ｕ', 'Ｓ', 'Ｐ', '顯', '菜', '示', '針', '穩', '超', '噁', '嚴', '瞬', '依', '吐', '拉', '麗', '邂', '逅', '悟', '週', '末', '退', '背', '蛛', '絲', '馬', '跡', '蒐', 'F', 'U', 'C', 'T', '摸', '肉', 'A', 'Y', 'W', '瘋', '狂', '掛', '笑', '措', '施', '展', '澄', '昇', '標', '球', '遭', '氣', '傾', '賭', '爽', '輕', '嘔', '女', '愛', '婚', '帥', '嫁', '賞', '暴', '檯', '繳', '咦', 'Ｂ', '音', '波', 'Ｘ', '光', '室', '弄', '毛', '胃', '腹', '忍', '暈', 'Ｌ', 'Ｎ', '卡', '址', 'w', '.', 'g', 'v', '備', 'Ｍ', 'Ａ', '步', '窗', '輸', '９', '苗', '複', '糾', '折', '磨', '站', '英', '字', 'M', '處', '箋', '款', '帳', '申', '否', '蹤', '紙', '喲', '泰', '國', '鑑', '昏', '利', 'S', '延', '紅', 'm', 'a', 'b', '熟', '怖', '客', '邏', '輯', '悉', '秒', '麽', '慶', '祝', '置', '障', '舉', '烈', '儘', '秋', '臨', '即', 's', '泌', '摩', '嘴', '巴', '傷', '爆', '位', '皮', '膜', '喝', '夾', '桌', '筷', '姓', '惶', '脖', '痛', '慾', '副', '飛', '杯', '登', '宴', '束', '銷', '答', '勾', '籤', '罩', '終', '廝', '守', '株', '舊', '電', '蓮', '雄', '歷', '陸', '聲', '克', '頂', '礙', '訪', '戶', '穿', '跑', '司', '鍋', '傍', '哨', '消', '爲', '説', '騷', '貓', '跳', '后', '宜', '趴', '落', '肚', '漲', '價', '優', '惠', 'l', 'i', '註', '聼', '葩', '閡', '瘙', '癢', '熊', '隨', '哇', 'h', '饋', '飽', '内', '遊', '戲', '瞌', '峰', '斤', '懷', '廟', '金', '融', '唉', '諱', '銀', '員', '桃', '園', '旅', '氛', '悔', '滋', '繁', '權', '政', '府', '輩', '速', '捲', '脹', '形', '緊', '棒', '嘉', '距', '封', '閉', '屬', '坦', '呂', '敏', '括', '壞', '兼', '爺', '奶', '佛', '課', '篇', '寡', '爭', '智', '慧', '莫', '嚇', '雜', '散', '墊', '脫', '群', '永', '戀', '尺', '績', '訂', '妝', '萊', '雅', '蘭', '蔻', '急', '浮', '躁', '簡', '產', '監', '視', '膩', '妙', '唷', '=', '督', '偏', '溫', '暖', '抱', '元', '逃', '準', '炎', '礎', '坐', '冷', '籃', '暑', '隊', '濟', '倍', '撕', '裂', '黏', '孩', '炸', '山', '海', '味', '魂', '詞', '憑', '負', '料', '腔', '唾', '篩', '逆', '質', '區', '困', '與', '教', '灣', '歐', '鬆', '娛', '某', '撫', '聞', '鍵', '孕', 'd', '彰', '化', '止', '售', '「', '寄', '」', '她', '製', '角', '喘', '哩', '緩', '休', '蕩', '婦', '浪', 'G', 'D', '首', '搞', '混', '技', '錶', '攸', '匿', '透', '衡', '善', '擋', '趕', '掃', '尷', '尬', '厚', '爛', '杜', '蕾', '斯', '袋', '岡', '薄', '油', '誇', '傻', '既', '弱', '刺', '激', '癌', '談', '扣', '箱', '晉', '升', '線', '裕', '蓋', '章', '４', '１', '８', '６', '鬧', '鐘', '欲', '蝨', '覽', '臺', '卵', '孵', '廁', '由', '芽', '燒', '凍', '塗', '抹', '秤', '殘', '癒', '斬', '草', '膿', '飲', '食', '攻', '擊', '耳', '虎', '吳', '千', 'Q', '２', '邦', '桶', '聚', '招', '呼', '陌', '尤', '粗', 'z', '哭', '言', '凝', '潤', '滑', '凶', '撩', '懶', '搭', '居', '丸', '燈', '模', '膚', '痘', '驚', '縮', '足', '劇', '浩', '碌', '央', '跨', '黃', '貨', '拖', '秀', '德', '瑞', '典', '販', '附', '頓', '緒', '靜', '旁', '鈕', '衍', '逛', '街', '親', '鮮', '碼', '櫻', '溝', '稠', '水', '潔', '校', '失', '褲', '睛', 'Ｆ', '０', '３', '粉', '綠', '厲', '燕', '尚', '酷', '輪', '綜', 'j', '腺', '肛', '骨', '挑', '良', '辰', '吉', '曬', '屏', '琉', 't', '涼', '掰', '雞', '挺', '歲', '蔡', '立', '翹', '臀', '熱', '悶', '猶', '豫', '搗', '蒜', '壤', '韓', '擠', '庚', '催', '批', '支', '歉', '投', '館', '腦', '救', '齊', '呆', '撥', '亡', '矛', '盾', '矜', '諸', '藍', '限', '矩', '溯', '咳', '嗽', '蹭', '削', '芒', '沾', '盤', '肺', '痰', '割', '沖', 'ｆ', 'ｅ', 'ｌ', '咖', '啡', '戒', '乘', '級', '唔', '阪', '并', '壁', '抵', '爸', '媽', '菸', '甲', '稱', '晦', '潮', '術', '語', '苦', '辛', '遺', '臟', '腸', '拼', '拚', '喬', '糟', '糕', '猜', '隻', '缺', '檻', '閃', '拋', '棄', '掌', '握', '划', '偽', '世', '界', '土', '責', '景', '刷', '季', '享', '憶', '抑', '朝', '趁', '肯', '粒', '尾', '勇', '貼', '雨', '肌', '酸', '酐', '練', '蛋', '爬', 'ㄟ', '捐', '士', '胞', '曲', '淨', '窩', '南', '涉', '喂', '龍', '夫', '丈', '編', '母', '尼', '萎', '盛', '併', '廣', '擺', '堆', '挪', '吞', '疏', '端', '車', '禍', '腳', '拐', '杖', '跌', '養', '鈣', '疊', '譚', '京', '宇', '修', '佈', '啓', '嵗', '孝', '弊', '殖', '彈', '嘞', '涵', '趨', '判', '契', '兒', '廢', '禦', '野', '柳', '弧', '映', '沫', '仍', '煉', '猛', '濕', '慌', '氏', '載', '欣', '拆', '茶', '檔', '操', '刻', '筆', '准', '頗', '箝', '豆', '貸', '債', '愧', '疚', '勢', '逼', '借', '憐', '賺', '攤', '牽', '予', '郵', '榮', '戰', '藉', '吻', '玄', '疹', '飆', '忽', '循', '癖', '嬤', '咯', '青', '春', '獲', '厰', '木', '葉', '村', '返', '曝', '暗', '曡', '恢', '%', '﹑', '渣', '妖', '魔', '橘', '邀', '飄', '創', '嘍', '慘', '澳', '洲', '座', '瞧', '龜', '鏢', '獎', '億', '吹', '疲', '乏', '躺', '游', '泳', '堤', '樞', '達', '幻', '腕', '扭', '筋', '逝', '．', '摟', '勁', '挨', '屁', '股', '笨', '夕', '疣', '凸', '圓', '蟲', '咬', '嘶', '幣', '策', '潛', '旺', '鼻', '-', '竹', '煞', '盯', '促', '曼', '傑', '挫', '囊', '枝', '紫', '堵', '薦', '寮', '句', '歪', '踩', '雷', '/', '狗', '若', '橫', '幅', '繫', '溼', '庫', '插', '競', '蕭', '禁', '騰', '略', '孳', '凱', '宣', '噢', '撞', '釣', '谷', '娘', '潑', '糧', 'X', '稀', '卻', '田', '匆', '猴', '褪', '斜', '祖', '宗', '魚', '撿', '滅', '污', '族', '嘖', '醉', '蚊', '叮', '頁', '粹', '威', '鋼', '探', '瘀', '伸', '淆', '閒', '惡', '童', '逐', '宮', '頸', '巧', '訓', '敗', '搜', '鋌', '鏈', '犯', '淡', '鐵', '貧', '攝', '葡', '萄', '深', '豐', '富', '牛', '描', '亮', '錠', '益', '酪', '乳', '伯', '瓣', '腫', '引', '鏡', '洞', '狹', '窄', '燙', '惱', '餘', '疝', '膽', '磷', '堪', '梯', '腰', '痠', '氧', '氫', '膏', '茫', '頑', '簿', '湄', '姨', '牙', '齒', '肩', '膀', '廖', '戚', '髮', '嗅', '喪', '涕', '擤', '噴', '竇', '畏', '寒', '鋅', '怠', '倦', '育', '畜', '牧', '瘟', '餃', '析', '泡', '樟', '芝', '巫', '孫', '僵', '楊', '雲', '肢', '綁', '蝦', '蜂', '織', '浸', '瀉', '‧', '磁', '振', '碘', '繃', '膝', '伏', '姿', '脂', '烘', '焙', '麵', '餅', '荷', '盜', '汗', '醇', '社', '垃', '圾', '殊', '躍', '酵', '憊', '唄', '團', '矽', '晶', '幼', '稚', '勞', '喉', '嚨', '脾', '奈', '米', '濾', '肪', '償', 'Ｔ', '石', '胎', '疸', '糞', '５', '纖', '耐', '江', '脈', '搏', '噎', '舌', '棉', '灰', '肋', '橡', '俊', '賀', '蒙', '甜', '煮', '儲', '碗', '炒', '蘋', '胰', '島', '盟', '巨', '扎', '濺', '洛', '凌', '晨', '潰', '瘍', '騎', '踏', '納', '黴', '涂', '宵', '寢', '着', '賓', '槌', '側', '弛', '眩', '糊', '斟', '酌', '鄭', '釘', '廚', '冬', '武', '漢', '瘤', '沿', '齦', '輻', '躲', '玻', '璃', '娃', '侏', '儒', '竄', '胸', '疔', '罵', '鹽', '衆', '礦', '麥', '扁', '井', '壽', '布', '魯', '碎', '夢', '恍', '惚', '剝', '擴', '髓', '帕', '森', '朵', '庭', '羞', '恥', '椎', '揍', '杉', '磯', '鄰', '莊', '溪', '豪', '鄉', '瞞', '嬸', 'Ｄ', '沙', '抖', '亢', '徐', '蛀', '攪', '紛', '瀑', '池', '邵', '翰', '執', '授', '縱', '叔', '恭', '您', '盲', '狼', '斑', '嫌', '巡', '審', '湯', '澱', '燜', '蔬', '姪', '蕁', '姑', '癬', '咪', '亞', '酯', '唱', '歌', '勝', '齡', '尖', '鎮', '脊', '潦', '史', '拷', '貝', '摘', '蝕', '肘', '縫', '撇', '唇', '博', '胺', '慈', '囑', '漱', '撮', '欽', '殼', '鍾', '茄', '托', '抿', '蜜', '螃', '蟹', '鞋', '仙', '聖', '誕', '派', '吩', '咐', '昂', '欄', '屋', '塵', '演', 'Ｙ', '植', '渾', '噩', '搥', '欠', '絞', '癱', '皰', '彩', '搓', '摳', '痱', '辣', '醬', '歹', '妹', '媳', '艾', '汎', '版', '曹', '培', '桿', '鼠', '蹊', '蠢', '川', '龔', '偉', '哲', '儀', '構', '椅', '摔', '洪', '澤', '弓', '漿', '滷', '輔', '鞏', '幽', '耍', '矮', '鳳', '梨', '勤', '軌', '痊', '嗜', '嚏', '淚', '幕', '闆', '燥', '皂', '癲', '癇', '瓜', '醣', '挖', '灶', '鳥', '嗝', '霖', '霧', '螢', '塞', '暢', '驅', '竭', '淤', '嬰', '吊', '昧', '檸', '檬', '薑', '汁', '醋', '秘', '譜', '瓢', '盂', '郎', '寶', '祕', '佐', '冊', '燃', '稅', '喊', '彎', '萱', '毫', '胱', '７', 'ｓ', 'ｕ', 'ｂ', 'ｔ', 'ａ', 'ｉ', 'ｏ', 'ｎ', '悸', '兵', '汽', '罰', '滾', '澡', '朗', '沐', '浴', '梢', '佔', '農', '珠', '丘', '痂', '箭', '掀', '痕', '蠕', '韋', '鋁', '鎂', '牠', '筍', '豬', '忌', '糙', 'ｋ', '寵', '腴', '抬', '摺', '橢', '淺', '滲', '鹹', '泉', '踴', '楷', '柔', '輝', '糰', '揪', '恙', '鈉', '鉀', '獻', '里', '柏', '霉', '敷', '採', '鉤', '螺', '旋', '蚤', '皇', '佳', '惜', '贅', '薪', '靈', '柺', '憩', '盆', 'ｒ', 'ｃ', 'ｍ', 'ｐ', 'ｗ', 'ｈ', '\\u3000', '屎', '棋', '擬', '倫', '扶', '漂', '毯', '鳴', '戳', '奎', '膨', '髖', '湘', '栓', '邁', '丁', '彙', '鋒', '搔', '軍', '甩', '娜', '索', '鴻', '芳', '播', '傅', '讚', '呐', '徹', '咿', '材', '壯', '碩', '墅', '噪', '錘', '誘', '趾', '剪', '揮', '愈', '凡', '忠', '嚥', '鑿', '迴', '粥', '蹋', '耀', '仁', '枚', '援', '墾', '貢', '湖', '仔', '鋪', '押', '船', '颱', '繞', '剖', '罕', '腱', '鹼', '添', '濁', '徘', '徊', '鍛', '鍊', '絨', '穀', '饅', '咕', '嚕', '抄', '羅', '臭', '塔', '蹦', '疤', '凹', '槽', '綿', '貪', '炭', '腐', '沈', '垂', '枕', '席', '吱', '遮', '遲', '鈍', '唆', '恆', '妨', '渴', '烏', '洱', '啞', '醃', '漬', '溶', '委', '婉', '勸', '賠', '駕', '域']\n"
          ],
          "name": "stdout"
        }
      ]
    },
    {
      "cell_type": "code",
      "metadata": {
        "id": "E9JRGqDI2Wx0",
        "colab": {
          "base_uri": "https://localhost:8080/"
        },
        "outputId": "d2a6448a-8958-4877-bb35-9ca7008e6aee"
      },
      "source": [
        "# embeddings\n",
        "\n",
        "embeddings = np.array([np.zeros(768)])\n",
        "\n",
        "pop_index_list = []\n",
        "\n",
        "vocabs_len = len(vocabs)\n",
        "\n",
        "for i in range(vocabs_len):\n",
        "  if i == 0 :\n",
        "    continue\n",
        "  \n",
        "  encoded_word = tokenizer.encode(vocabs[i])\n",
        "  try:\n",
        "    # Convert\n",
        "    inputs = torch.tensor([encoded_word])\n",
        "    masks = torch.tensor([[1.0 ,1.0 ,1.0]])\n",
        "    embedded = embedding(inputs, attention_mask=masks)\n",
        "    embeddings = np.row_stack((embeddings, embedded[0][0][1].detach().numpy()))\n",
        "  except:\n",
        "    pop_index_list.append(i)\n",
        "\n",
        "  if i%50 == 0:\n",
        "    clear_output()\n",
        "    print(i*100/vocabs_len,'%')\n",
        "\n",
        "print('有',len(pop_index_list),'組資料無法編碼or剃除')\n",
        "for index in pop_index_list:\n",
        "  try:\n",
        "    print('自動剃除index:',index,vocabs[index])\n",
        "    del vocabs[index]\n",
        "  except:\n",
        "    print('無法剃除:',index)\n",
        "\n",
        "print('len(vocabs)=',len(vocabs))\n",
        "print('embeddings.shape=',embeddings.shape)\n",
        "if len(embeddings) == len(vocabs):\n",
        "  print('資料一致')\n",
        "else:\n",
        "  print('資料不一致')"
      ],
      "execution_count": null,
      "outputs": [
        {
          "output_type": "stream",
          "text": [
            "98.24414715719064 %\n",
            "有 1 組資料無法編碼or剃除\n",
            "自動剃除index: 2278 　\n",
            "len(vocabs)= 2391\n",
            "embeddings.shape= (2391, 768)\n",
            "資料一致\n"
          ],
          "name": "stdout"
        }
      ]
    },
    {
      "cell_type": "code",
      "metadata": {
        "id": "CrkHN3T5BrX7",
        "colab": {
          "base_uri": "https://localhost:8080/"
        },
        "outputId": "d219d8c9-34cc-4cb9-8f1a-60341d0b8be8"
      },
      "source": [
        "# Convert the morphology of vocabs to a dictionary\n",
        "vocabs_dict = {}\n",
        "for i in range(len(vocabs)):\n",
        "  vocabs_dict[vocabs[i]] = i\n",
        "len(vocabs_dict)"
      ],
      "execution_count": null,
      "outputs": [
        {
          "output_type": "execute_result",
          "data": {
            "text/plain": [
              "2391"
            ]
          },
          "metadata": {
            "tags": []
          },
          "execution_count": 21
        }
      ]
    },
    {
      "cell_type": "code",
      "metadata": {
        "id": "nIPTnk1FCqH6"
      },
      "source": [
        "# save vocabs_dict\n",
        "json_file_name = 'vocab.json'\n",
        "\n",
        "with open(json_file_name, 'w', encoding='utf-8') as f:\n",
        "    json.dump(vocabs_dict, f, ensure_ascii=False)"
      ],
      "execution_count": null,
      "outputs": []
    },
    {
      "cell_type": "code",
      "metadata": {
        "colab": {
          "base_uri": "https://localhost:8080/"
        },
        "id": "ucWPqr2dC5DW",
        "outputId": "ffd4f081-603b-4805-91ce-50082e9a6865"
      },
      "source": [
        "# Load the vocab.json file\n",
        "vocabs_file = open('vocab.json')\n",
        "vocabs_dict = json.load(vocabs_file)\n",
        "\n",
        "print('vocab.json共 %d 筆資料' % ( len(vocabs_dict) ) )"
      ],
      "execution_count": null,
      "outputs": [
        {
          "output_type": "stream",
          "text": [
            "vocab.json共 2392 筆資料\n"
          ],
          "name": "stdout"
        }
      ]
    },
    {
      "cell_type": "code",
      "metadata": {
        "id": "KSlEpvcjDngF"
      },
      "source": [
        "# save embeddings\n",
        "np.save('embeddings', embeddings)"
      ],
      "execution_count": null,
      "outputs": []
    },
    {
      "cell_type": "code",
      "metadata": {
        "colab": {
          "base_uri": "https://localhost:8080/"
        },
        "id": "poMtesKkD4yI",
        "outputId": "3ad96349-fdf5-4a15-b4f3-7ad3ed8f81f4"
      },
      "source": [
        "# load embeddings\n",
        "embeddings = np.load('embeddings.npy')\n",
        "print(embeddings.shape)"
      ],
      "execution_count": null,
      "outputs": [
        {
          "output_type": "stream",
          "text": [
            "(2392, 768)\n"
          ],
          "name": "stdout"
        }
      ]
    },
    {
      "cell_type": "code",
      "metadata": {
        "colab": {
          "base_uri": "https://localhost:8080/"
        },
        "id": "NPEXzs-HFMeB",
        "outputId": "c43d914c-38c9-4c88-a930-f5ba8365d32e"
      },
      "source": [
        "# load the Train_qa_ans.json file\n",
        "QA_file = open('Train_qa_ans.json')\n",
        "QA_datas = json.load(QA_file)\n",
        "print('有',len(QA_datas),'組資料')\n",
        "QA_datas[50]"
      ],
      "execution_count": null,
      "outputs": [
        {
          "output_type": "stream",
          "text": [
            "有 695 組資料\n"
          ],
          "name": "stdout"
        },
        {
          "output_type": "execute_result",
          "data": {
            "text/plain": [
              "{'answer': 'Ｂ',\n",
              " 'article_id': 27,\n",
              " 'id': 51,\n",
              " 'question': {'choices': [{'label': 'A', 'text': '一個半月'},\n",
              "   {'label': 'B', 'text': '84天'},\n",
              "   {'label': 'C', 'text': '兩年'}],\n",
              "  'stem': '請問要經過多久才能再抽血？'},\n",
              " 'text': '個管師：這個月還好嗎？民眾：還好。個管師：這個是新伴侶，舊伴侶，還是？民眾：就他幫我用的啊。個管師：你不是沒有跟他在一起了嗎？民眾：沒有啊，就像家人一樣。個管師：但是也不會跟他有性行爲。民眾：完全不會。個管師：對嘛，我記得是這樣，我想説你們爲什麽會一起來？這種感覺很奇怪。民眾：沒有啊，就家人。個管師：但我記得他是你的前任是不是？民眾：對，前男友。個管師：okok，對，因爲我就想説，換人嗎？好像也不是，就本人啊。民眾：因爲感覺他越來越騷。個管師：爲什麽？民眾：不知道欸，他9月好像，好像有點變不好欸。個管師：有嗎？吃藥不是比較好了？哦，好，這個月有約嗎？民眾：一次。個管師：然後無套？民眾：有吃藥。個管師：約的嗎？民眾：固炮。個管師：固炮。就是你現在有個固炮，固多久了？就是你原本跟我講的那個嘛。民眾：嗯。個管師：那也快兩年了。民眾：應該有兩年多啦。個管師：兩年多了。民眾：這是貓嗎？個管師：不是不是，它是個傳送系統，貓這也太恐怖了吧。民眾：上次我聽到我想説貓嗎？個管師：沒有沒有，它就是有一些氣送東西，然後以前這間是病例室，比方説哪裏有需要病例的話，他們就用氣送，後來這間被改爲個管室這樣子。那對方很帥嗎？民眾：還好。個管師：你的菜嗎？他要求無套嗎？民眾：因爲想説他也跟我而已啊。是他這樣講啦，可是我有吃。我，我那時候就會多吃一些。個管師：多吃幾天嗎？還是多吃顆數？民眾：對。可能最多3，1，1，1，1。個管師：哦，這樣可以，這樣可以。但是如果你比如説多吃那顆數就沒差。Ok，好哦。你單子還沒有開出來，我現在問一下，那無套的狀況之下，如果有吃PrEP會不會讓你比較放心？民眾：一點點。個管師：你還是會覺得比較放心？民眾：對。個管師：ok，好那接下來你手上還有幾瓶，因爲你最後一次會回來，你只剩一次回來拿藥的機會了。民眾：而且我上次好像抽血，後來也沒有通知欸，我想説，那就沒有理他了。個管師：那是好事啊，因爲如果你們沒有問，我就不會特意去查。除非他有異常就會跳出來，沒有異常就不會特別放報告。民眾：我是6月份抽的嗎，現在又要抽？怎麽感覺很快。個管師：沒有，我在幫你查，你7月17號抽的血欸。對啊，你717抽的。民眾：7月17，8月，那也經過一個半月而已。個管師：對啊，要經過84天才能抽。你7月17號抽的，等我一下，我幫你查一下。10月16號，10月16號才會抽。民眾：好，你説我只剩下最後一瓶？個管師：對，你只剩下11月21號回診的這一天。民眾：那之後呢？個管師：看你，你如果要繼續吃，要自費買藥。民眾：就變成自費的了？個管師：對。民眾：那這樣，我這個還抽得到嗎？個管師：蛤？什麽意思？民眾：你不是說10月17號還要再抽？個管師：要啊。民眾：我藥拿到，我還要再回來抽？個管師：要啊。民眾：那抽完后，沒了？個管師：如果有異常，然後跟你説。民眾：沒有的話就都沒了？個管師：對。民眾：好。個管師：然後如果你要吃自費的藥的話。民眾：很貴。個管師：很貴嗎？民眾：所以現在也不能用他的名義拿？個管師：沒有辦法。好，跟你説，如果結束之後，你還想吃的話，你現在手上剩多少？民眾：忘記了。應該還有4瓶吧。個管師：那我跟你說，那你應該還可以吃，你快吃完的時候跟我説。他有分兩種，自費藥有兩種，一種是學名藥，一個叫做所謂的你現在在吃的原廠藥。那學名藥就是所謂的泰國藥，那比較便宜，一個月大概要3500到4500。然後自費藥的話，就是一個月嘛，就是12500多這樣，414。民眾：一顆吃？個管師：一顆250塊。民眾：什麽意思？個管師：一顆藥就250塊。對，這樣子，所以一罐30顆。民眾：一個是12500，一個是3500到4500？個管師：對對對。民眾：那差在哪裏啊？個管師：一個是原廠的藥，一個是學名藥。民眾：趴數都差不多嗎？還是有落差？個管師：其實沒有差，一個就是學名藥，應該這樣説大部分吃的人都沒有差，小部分會覺得吃完之後有差，那覺得有差是差在，有些會覺得副作用會比較大，比如説肚子會漲漲的，頭會有點暈啊，之類的，那大部分的人都覺得沒差一樣，看你自己決定用什麽方式吃藥，或者是？民眾：那等我那邊吃完再聯絡？個管師：對。好，我先跟你說因爲原廠藥的特價的優惠方案只到這個年底，買一送二只到年底。對，先跟你講一下。民眾：反正就是12500有三罐？個管師：對。一罐大概是，我都抓5000啊。就到年底，明年不知道有沒有這個計劃，如果明年沒有這個計劃的話，一罐就是12500多塊。這樣ok嗎？民眾：好。個管師：那你的line是PPPboy這個嗎？我要註記一下。民眾：對。'}"
            ]
          },
          "metadata": {
            "tags": []
          },
          "execution_count": 16
        }
      ]
    },
    {
      "cell_type": "code",
      "metadata": {
        "colab": {
          "base_uri": "https://localhost:8080/"
        },
        "id": "k0I8r7s8HSdO",
        "outputId": "4cf79d95-a20d-44c4-d807-7ee9d7f006d0"
      },
      "source": [
        "len(vocabs)"
      ],
      "execution_count": null,
      "outputs": [
        {
          "output_type": "execute_result",
          "data": {
            "text/plain": [
              "2379"
            ]
          },
          "metadata": {
            "tags": []
          },
          "execution_count": 17
        }
      ]
    },
    {
      "cell_type": "code",
      "metadata": {
        "colab": {
          "base_uri": "https://localhost:8080/"
        },
        "id": "dwGBhMQ2FlNm",
        "outputId": "7fb44970-f738-4954-88f2-820ba19db862"
      },
      "source": [
        "# Add vocabs\n",
        "\n",
        "New_Start = len(vocabs)\n",
        "\n",
        "for data in QA_datas:\n",
        "  #process text\n",
        "  List_Append(vocabs, data['text'])\n",
        "  #process Problem Statements\n",
        "  List_Append(vocabs, data['question']['stem'])\n",
        "  #Handling Problems Option A, B or C\n",
        "  for choice in data['question']['choices']:\n",
        "    List_Append(vocabs, choice['text'])\n",
        "\n",
        "\n",
        "print('vocabs 共 %d 筆資料，新增了 %d 筆資料' % (len(vocabs), len(vocabs) - New_Start) )"
      ],
      "execution_count": null,
      "outputs": [
        {
          "output_type": "stream",
          "text": [
            "vocabs 共 2395 筆資料，新增了 16 筆資料\n"
          ],
          "name": "stdout"
        }
      ]
    },
    {
      "cell_type": "code",
      "metadata": {
        "colab": {
          "base_uri": "https://localhost:8080/",
          "height": 35
        },
        "id": "W0LVqDvN9a7w",
        "outputId": "54d466a4-4709-41bd-93f6-59dff0130926"
      },
      "source": [
        "vocabs[60]"
      ],
      "execution_count": null,
      "outputs": [
        {
          "output_type": "execute_result",
          "data": {
            "application/vnd.google.colaboratory.intrinsic+json": {
              "type": "string"
            },
            "text/plain": [
              "'什'"
            ]
          },
          "metadata": {
            "tags": []
          },
          "execution_count": 20
        }
      ]
    },
    {
      "cell_type": "code",
      "metadata": {
        "colab": {
          "base_uri": "https://localhost:8080/"
        },
        "id": "PY31I2HbI2l8",
        "outputId": "59cb79ce-6c60-4d82-c7b5-bf85b5589d9c"
      },
      "source": [
        "# embeddings complementary\n",
        "pop_index_list = []\n",
        "\n",
        "vocabs_len = len(vocabs)\n",
        "\n",
        "for i in range(New_Start, vocabs_len):\n",
        "  encoded_word = tokenizer.encode(vocabs[i])\n",
        "  try:\n",
        "    # Convert\n",
        "    inputs = torch.tensor([encoded_word])\n",
        "    masks = torch.tensor([[1.0 ,1.0 ,1.0]])\n",
        "    embedded = embedding(inputs, attention_mask=masks)\n",
        "    embeddings = np.row_stack((embeddings, embedded[0][0][1].detach().numpy()))\n",
        "  except:\n",
        "    pop_index_list.append(i)\n",
        "\n",
        "print('有',len(pop_index_list),'組資料無法編碼，剃除')\n",
        "for index in pop_index_list:\n",
        "  del vocabs[index]\n",
        "\n",
        "print('len(vocabs)=',len(vocabs))\n",
        "print('embeddings.shape=',embeddings.shape)\n",
        "if len(embeddings) == len(vocabs):\n",
        "  print('資料一致')\n",
        "else:\n",
        "  print('資料不一致')"
      ],
      "execution_count": null,
      "outputs": [
        {
          "output_type": "stream",
          "text": [
            "有 1 組資料無法編碼，剃除\n",
            "len(vocabs)= 2394\n",
            "embeddings.shape= (2394, 768)\n",
            "資料一致\n"
          ],
          "name": "stdout"
        }
      ]
    },
    {
      "cell_type": "code",
      "metadata": {
        "colab": {
          "base_uri": "https://localhost:8080/"
        },
        "id": "5c1LDyvrJT7W",
        "outputId": "b9bb356f-cca1-4a57-bd68-59b92c137138"
      },
      "source": [
        "# Convert the morphology of vocabs to a dictionary\n",
        "vocabs_dict = {}\n",
        "for i in range(len(vocabs)):\n",
        "  vocabs_dict[vocabs[i]] = i\n",
        "print(len(vocabs_dict))\n",
        "\n",
        "# save vocabs_dict\n",
        "json_file_name = 'vocab.json'\n",
        "\n",
        "with open(json_file_name, 'w', encoding='utf-8') as f:\n",
        "    json.dump(vocabs_dict, f, ensure_ascii=False)"
      ],
      "execution_count": null,
      "outputs": [
        {
          "output_type": "stream",
          "text": [
            "2394\n"
          ],
          "name": "stdout"
        }
      ]
    },
    {
      "cell_type": "code",
      "metadata": {
        "id": "gGABGLwKJj_2"
      },
      "source": [
        "# save embeddings\n",
        "np.save('embeddings', embeddings)"
      ],
      "execution_count": null,
      "outputs": []
    },
    {
      "cell_type": "code",
      "metadata": {
        "colab": {
          "base_uri": "https://localhost:8080/"
        },
        "id": "kaYZ7mVBJljV",
        "outputId": "e094b2cc-8482-440c-a06e-3bf1d974101e"
      },
      "source": [
        "# load vocab.json\n",
        "vocabs_file = open('vocab.json')\n",
        "vocabs_dict = json.load(vocabs_file)\n",
        "\n",
        "print('vocab.json共 %d 筆資料' % ( len(vocabs_dict) ) )"
      ],
      "execution_count": null,
      "outputs": [
        {
          "output_type": "stream",
          "text": [
            "vocab.json共 2394 筆資料\n"
          ],
          "name": "stdout"
        }
      ]
    },
    {
      "cell_type": "code",
      "metadata": {
        "colab": {
          "base_uri": "https://localhost:8080/"
        },
        "id": "F9KwWA_IJo9J",
        "outputId": "eca1e752-1581-45c0-bf5e-ff8dbc1b13c3"
      },
      "source": [
        "# load embeddings\n",
        "embeddings = np.load('embeddings.npy')\n",
        "print('embeddings.shape = ',embeddings.shape)"
      ],
      "execution_count": null,
      "outputs": [
        {
          "output_type": "stream",
          "text": [
            "embeddings.shape =  (2394, 768)\n"
          ],
          "name": "stdout"
        }
      ]
    }
  ]
}